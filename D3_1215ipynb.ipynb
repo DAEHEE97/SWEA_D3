{
 "cells": [
  {
   "cell_type": "markdown",
   "id": "fdf2f259",
   "metadata": {},
   "source": [
    "# [S/W 문제해결 기본] 3일차 - 회문1\n",
    "\n",
    "\n",
    "- 2차원 배열 안에서, 주어진 길이 회문의 개수를 구하라.\n"
   ]
  },
  {
   "cell_type": "markdown",
   "id": "dce8a5e5",
   "metadata": {},
   "source": [
    "---"
   ]
  },
  {
   "cell_type": "markdown",
   "id": "aaeee554",
   "metadata": {},
   "source": [
    "\n",
    "\n",
    "\"기러기\", \"토마토\", \"스위스\"와 같이 똑바로 읽어도 거꾸로 읽어도 똑같은 문장이나 낱말을 회문(回文, palindrome)이라 한다.\n",
    "\n",
    "8x8 평면 글자판에서 제시된 길이를 가진 회문의 개수를 구하라.\n",
    "\n",
    "위와 같은 글자판이 주어졌을 때, 길이가 5인 회문은 붉은색 테두리로 표시된 4개이므로 4를 반환하면 된다.\n",
    "\n",
    "\n",
    "## [제약 사항]\n",
    "\n",
    "각 칸의 들어가는 글자는 'A', 'B', 'C' 중 하나이다.\n",
    "\n",
    "ABA도 회문이며, ABBA도 회문이다. A 또한 길이 1짜리 회문이다.\n",
    "\n",
    "가로 또는 세로로 이어진 회문의 개수만 센다.\n",
    "\n",
    "아래 그림에서 노란색 경로를 따라가면 길이 7짜리 회문이 되지만 직선이 아니기 때문에 인정되지 않는다.\n",
    "\n",
    "## [입력]\n",
    "\n",
    "총 10개의 테스트 케이스가 주어진다.\n",
    "\n",
    "각 테스트 케이스의 첫 번째 줄에는 찾아야 하는 회문의 길이가 주어지며, 다음 줄에 8x8 크기의 글자판이 주어진다.\n",
    "\n",
    "## [출력]\n",
    "\n",
    "#부호와 함께 테스트 케이스의 번호를 출력하고, 공백 문자 후 찾은 회문의 개수를 출력한다.\n"
   ]
  },
  {
   "cell_type": "code",
   "execution_count": 4,
   "id": "40013cfc",
   "metadata": {},
   "outputs": [
    {
     "name": "stdout",
     "output_type": "stream",
     "text": [
      "q w e\n",
      "a s d\n"
     ]
    },
    {
     "data": {
      "text/plain": [
       "[['q', 'w', 'e'], ['a', 's', 'd']]"
      ]
     },
     "execution_count": 4,
     "metadata": {},
     "output_type": "execute_result"
    }
   ],
   "source": [
    "lst = [ list(input().split()) for _ in range(2) ]\n",
    "lst"
   ]
  },
  {
   "cell_type": "code",
   "execution_count": 5,
   "id": "1fb63c46",
   "metadata": {},
   "outputs": [
    {
     "name": "stdout",
     "output_type": "stream",
     "text": [
      "qwe\n",
      "asd\n"
     ]
    },
    {
     "data": {
      "text/plain": [
       "[['q', 'w', 'e'], ['a', 's', 'd']]"
      ]
     },
     "execution_count": 5,
     "metadata": {},
     "output_type": "execute_result"
    }
   ],
   "source": [
    "lst = [ list(input()) for _ in range(2) ]\n",
    "lst"
   ]
  },
  {
   "cell_type": "markdown",
   "id": "b2fc18a1",
   "metadata": {},
   "source": [
    "---"
   ]
  },
  {
   "cell_type": "markdown",
   "id": "c7a3f2eb",
   "metadata": {},
   "source": [
    "## flag  1\n",
    "\n",
    "- != False break"
   ]
  },
  {
   "cell_type": "code",
   "execution_count": null,
   "id": "0fdafc36",
   "metadata": {},
   "outputs": [],
   "source": [
    "T = 10\n",
    "for t in range(1,T+1):\n",
    "        \n",
    "    N = 8\n",
    "    \n",
    "    length = int(input()) # 찾아야하는 회문의 길이\n",
    "    \n",
    "    # 8x8 문자줄줄이 입력 리스트 2차원 배열\n",
    "    arr1 = [ list(input()) for _ in range(N) ]\n",
    "    arr2 = [ list(lst) for lst in zip(*arr1) ]\n",
    "    \n",
    "    \n",
    "    cnt = 0\n",
    "        \n",
    "    for lst in arr1:\n",
    "        \n",
    "\n",
    "        for si in range(0,N-length+1):\n",
    "            \n",
    "            for i in range(length // 2): # 비교 횟수 //2\n",
    "                \n",
    "                if lst[si+i] != lst[ si + length-i -1]:\n",
    "                    flag = False\n",
    "                    break\n",
    "                else:\n",
    "                    flag = True\n",
    "            \n",
    "            if flag:\n",
    "                cnt+=1\n",
    "                \n",
    "    \n",
    "    for lst in arr2:\n",
    "            \n",
    "        for si in range(0,N-length+1):\n",
    "            \n",
    "            for i in range(length // 2): # 비교 횟수 //2\n",
    "                \n",
    "                if lst[si+i] != lst[ si + length-i -1]:\n",
    "                    flag = False\n",
    "                    break\n",
    "                else:\n",
    "                    flag = True\n",
    "            \n",
    "            if flag:\n",
    "                cnt+=1\n",
    "               \n",
    "            \n",
    "            \n",
    "    print('#{0} {1}'.format(t, cnt))\n",
    "\n",
    "                           "
   ]
  },
  {
   "cell_type": "markdown",
   "id": "22a8f972",
   "metadata": {},
   "source": [
    "---"
   ]
  },
  {
   "cell_type": "markdown",
   "id": "aea10a79",
   "metadata": {},
   "source": [
    "## flag 2\n",
    "\n",
    "- == True"
   ]
  },
  {
   "cell_type": "code",
   "execution_count": null,
   "id": "cc511471",
   "metadata": {},
   "outputs": [],
   "source": [
    "T = 10\n",
    "for t in range(1,T+1):\n",
    "        \n",
    "    N = 8\n",
    "    \n",
    "    length = int(input()) # 찾아야하는 회문의 길이\n",
    "    \n",
    "    # 8x8 문자줄줄이 입력 리스트 2차원 배열\n",
    "    arr1 = [ list(input()) for _ in range(N) ]\n",
    "    arr2 = [ list(lst) for lst in zip(*arr1) ]\n",
    "    \n",
    "    \n",
    "    cnt = 0\n",
    "\n",
    "    \n",
    "    flag = False\n",
    "\n",
    "    for lst in arr1:\n",
    "        \n",
    "\n",
    "        for si in range(0,N-length+1):\n",
    "            \n",
    "            for i in range(length // 2): # 비교 횟수 //2\n",
    "                if lst[si+i] == lst[ si + length-i -1]:\n",
    "                    flag = True\n",
    "                else:\n",
    "                    flag = False\n",
    "                    break\n",
    "            \n",
    "            if flag:\n",
    "                cnt+=1\n",
    "    \n",
    "\n",
    "    for lst in arr2:    \n",
    "\n",
    "        for si in range(0,N-length+1):\n",
    "            \n",
    "            for i in range(length // 2): # 비교 횟수 //2\n",
    "                if lst[si+i] == lst[ si + length-i -1]:\n",
    "                    flag = True\n",
    "                else:\n",
    "                    flag = False\n",
    "                    break\n",
    "            \n",
    "            if flag:\n",
    "                cnt+=1\n",
    " \n",
    "    \n",
    "    \n",
    "    print('#{0} {1}'.format(t, cnt))\n",
    "\n",
    "                \n",
    "    \n",
    "            \n",
    "            \n",
    "        "
   ]
  },
  {
   "cell_type": "markdown",
   "id": "82558827",
   "metadata": {},
   "source": [
    "---"
   ]
  },
  {
   "cell_type": "markdown",
   "id": "83ed58bf",
   "metadata": {},
   "source": [
    "## Memo 회문 길이 length\n",
    "\n",
    "- 2차원 배열 >. 차원 lst 처리\n",
    "\n",
    "- si, 이동\n",
    "\n",
    "- 회문 비교 횟수 length // 2 만큼 비교 이때 i는 이동 하면서 처리\n",
    "\n",
    "\n",
    "---\n",
    "\n",
    "```\n",
    "0 1 2 3\n",
    "\n",
    "1 2 3 4\n",
    "\n",
    "2 3 4 5 \n",
    "\n",
    "3 4 5 6\n",
    "\n",
    "4 5 6 7\n",
    "````\n",
    "\n",
    "\n"
   ]
  },
  {
   "cell_type": "markdown",
   "id": "e34f4031",
   "metadata": {},
   "source": [
    "---"
   ]
  },
  {
   "cell_type": "markdown",
   "id": "25b6ece4",
   "metadata": {},
   "source": [
    "## for else"
   ]
  },
  {
   "cell_type": "code",
   "execution_count": null,
   "id": "61367ad9",
   "metadata": {},
   "outputs": [],
   "source": [
    "T = 10\n",
    "for t in range(1,T+1):\n",
    "        \n",
    "    N = 8\n",
    "    \n",
    "    length = int(input()) # 찾아야하는 회문의 길이\n",
    "\n",
    "    \n",
    "    # 8x8 문자줄줄이 입력 리스트 2차원 배열\n",
    "    arr1 = [ list(input()) for _ in range(N) ]\n",
    "    arr2 = [ list(lst) for lst in zip(*arr1) ]\n",
    "    \n",
    "\n",
    "    # 2차원 배열에서 arr1, arr2 에서 길이가 length 인 회문을 찾아서 카운트 해야함\n",
    "    # 글자 \n",
    "    # 한줄에서 시작 idx  si,0 1 2 3 4시작 \n",
    "\n",
    "    cnt = 0\n",
    "    \n",
    "    for lst in arr1:\n",
    "        \n",
    "        for si in range( N - length + 1 ):\n",
    "            # 회문 비교 = 글자길이 의 절반 만큼 만 비교 하면 확인 가능\n",
    "            for i in range( length // 2):\n",
    "                if(lst[si + i] != lst[si + length-1 - i]):\n",
    "                    break\n",
    "            else:\n",
    "                cnt+=1 # break를 안한 경우 \n",
    "        \n",
    "            \n",
    "            \n",
    "    for lst in arr2:\n",
    "        \n",
    "        for si in range( N - length + 1 ):\n",
    "            \n",
    "            for i in range( length // 2):\n",
    "                if(lst[si + i] != lst[si+length-1 - i]):\n",
    "                    break\n",
    "            else:\n",
    "                cnt+=1 \n",
    "        \n",
    "            \n",
    "        \n",
    "    print('#{0} {1}'.format(t, cnt))\n",
    "    \n",
    "    \n",
    "    "
   ]
  },
  {
   "cell_type": "markdown",
   "id": "18d1bef0",
   "metadata": {},
   "source": [
    "---"
   ]
  }
 ],
 "metadata": {
  "kernelspec": {
   "display_name": "Python 3 (ipykernel)",
   "language": "python",
   "name": "python3"
  },
  "language_info": {
   "codemirror_mode": {
    "name": "ipython",
    "version": 3
   },
   "file_extension": ".py",
   "mimetype": "text/x-python",
   "name": "python",
   "nbconvert_exporter": "python",
   "pygments_lexer": "ipython3",
   "version": "3.8.16"
  },
  "toc": {
   "base_numbering": 1,
   "nav_menu": {},
   "number_sections": true,
   "sideBar": true,
   "skip_h1_title": false,
   "title_cell": "Table of Contents",
   "title_sidebar": "Contents",
   "toc_cell": false,
   "toc_position": {
    "height": "calc(100% - 180px)",
    "left": "10px",
    "top": "150px",
    "width": "304px"
   },
   "toc_section_display": true,
   "toc_window_display": true
  },
  "varInspector": {
   "cols": {
    "lenName": 16,
    "lenType": 16,
    "lenVar": 40
   },
   "kernels_config": {
    "python": {
     "delete_cmd_postfix": "",
     "delete_cmd_prefix": "del ",
     "library": "var_list.py",
     "varRefreshCmd": "print(var_dic_list())"
    },
    "r": {
     "delete_cmd_postfix": ") ",
     "delete_cmd_prefix": "rm(",
     "library": "var_list.r",
     "varRefreshCmd": "cat(var_dic_list()) "
    }
   },
   "types_to_exclude": [
    "module",
    "function",
    "builtin_function_or_method",
    "instance",
    "_Feature"
   ],
   "window_display": false
  }
 },
 "nbformat": 4,
 "nbformat_minor": 5
}

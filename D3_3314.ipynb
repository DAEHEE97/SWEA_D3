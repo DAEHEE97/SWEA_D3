{
 "cells": [
  {
   "cell_type": "markdown",
   "metadata": {},
   "source": [
    "# 3314. 보충학습과 평균"
   ]
  },
  {
   "cell_type": "markdown",
   "metadata": {},
   "source": [
    "\n",
    "산골에 있는 삼성초등학교에는 학생이 다섯 명 밖에 없다.\n",
    "\n",
    "어제는 수행평가였고 오늘 점수가 나왔다. 점수가 40점 이상인 학생은 그 점수를 그대로 가지지만 40점 미만은 학생은 보충학습을 받고 점수를 40점으로 올릴 수 있다.\n",
    "\n",
    "보충학습은 거부가 불가능하기 때문에 40점 미만인 학생은 40점을 받게 되는 것과 같다.\n",
    "\n",
    "이 때 학생 5명의 점수를 알 때 보충을 받을 학생이 모두 보충을 받고 나면 점수의 평균이 몇인지 출력하는 프로그램을 작성하라.\n",
    "\n",
    "\n",
    "## [입력]\n",
    "\n",
    "첫 번째 줄에 테스트 케이스의 수 T가 주어진다.\n",
    "\n",
    "각 테스트 케이스마다 다섯 개의 정수가 공백으로 구분되어 주어진다.\n",
    "\n",
    "점수는 모두 0이상 100이하인 5의 배수이다. 즉 평균은 항상 정수이다.\n",
    "\n",
    "\n",
    "## [출력]\n",
    "\n",
    "각 테스트 케이스마다 학생 5명의 평균 점수를 출력한다.\n",
    "\n",
    "## MEMO\n",
    "\n",
    "- 리스트 내 부분 값 변경 \n",
    "\n",
    "- len 으로 받아서, index 처리 \n",
    "\n",
    "- lst[i]로 값 변경\n"
   ]
  },
  {
   "cell_type": "code",
   "execution_count": 1,
   "metadata": {},
   "outputs": [
    {
     "name": "stdout",
     "output_type": "stream",
     "text": [
      "1\n",
      "10 65 100 30 95\n",
      "#1 68\n"
     ]
    }
   ],
   "source": [
    "T = int(input())\n",
    "\n",
    "for t in range(1,T+1):\n",
    "    \n",
    "    lst = list(map(int,input().split()))\n",
    "    \n",
    "    for i in range(len(lst)):\n",
    "        if lst[i] < 40:\n",
    "            lst[i] = 40\n",
    "        \n",
    "    print('#{0} {1}'.format(t,int(sum(lst)/len(lst))))\n",
    "    \n"
   ]
  }
 ],
 "metadata": {
  "hide_input": false,
  "kernelspec": {
   "display_name": "Python 3 (ipykernel)",
   "language": "python",
   "name": "python3"
  },
  "language_info": {
   "codemirror_mode": {
    "name": "ipython",
    "version": 3
   },
   "file_extension": ".py",
   "mimetype": "text/x-python",
   "name": "python",
   "nbconvert_exporter": "python",
   "pygments_lexer": "ipython3",
   "version": "3.11.2"
  },
  "toc": {
   "base_numbering": 1,
   "nav_menu": {},
   "number_sections": true,
   "sideBar": true,
   "skip_h1_title": false,
   "title_cell": "Table of Contents",
   "title_sidebar": "Contents",
   "toc_cell": false,
   "toc_position": {},
   "toc_section_display": true,
   "toc_window_display": false
  }
 },
 "nbformat": 4,
 "nbformat_minor": 4
}

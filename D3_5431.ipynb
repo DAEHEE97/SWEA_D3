{
 "cells": [
  {
   "cell_type": "markdown",
   "id": "30ffd2c0",
   "metadata": {},
   "source": [
    "# 5431. 민석이의 과제 체크하기"
   ]
  },
  {
   "cell_type": "code",
   "execution_count": 1,
   "id": "42f53d69",
   "metadata": {},
   "outputs": [],
   "source": [
    "lst = [i for i in range(1,5+1)]"
   ]
  },
  {
   "cell_type": "code",
   "execution_count": 2,
   "id": "fe5e7d0b",
   "metadata": {},
   "outputs": [
    {
     "data": {
      "text/plain": [
       "[1, 2, 3, 4, 5]"
      ]
     },
     "execution_count": 2,
     "metadata": {},
     "output_type": "execute_result"
    }
   ],
   "source": [
    "lst"
   ]
  },
  {
   "cell_type": "code",
   "execution_count": 3,
   "id": "0b049526",
   "metadata": {},
   "outputs": [
    {
     "name": "stdout",
     "output_type": "stream",
     "text": [
      "2\n",
      "5 3\n",
      "2 5 3\n",
      "#1 1 4\n",
      "7 2\n",
      "4 6\n",
      "#2 1 2 3 5 7\n"
     ]
    }
   ],
   "source": [
    "T = int(input())\n",
    "\n",
    "for t in range(1,T+1):\n",
    "    \n",
    "    # 5 \n",
    "    N,K = map(int,input().split())\n",
    "    \n",
    "    lst = [i for i in range(1,N+1)]\n",
    "    \n",
    "    lst_s = list(map(int,input().split()))\n",
    "    \n",
    "    # lst에서 값을 하나씩 꺼내, 그런데, 그 값이 , lst_s 에 없으면, lst_s 값과 같으면 제외\n",
    "    # 추출\n",
    "    lst = [ i for i in lst if i not in lst_s]\n",
    "    \n",
    "    lst.sort()\n",
    "    \n",
    "    print('#{0}'.format(t),*lst)\n",
    "    "
   ]
  }
 ],
 "metadata": {
  "kernelspec": {
   "display_name": "Python 3 (ipykernel)",
   "language": "python",
   "name": "python3"
  },
  "language_info": {
   "codemirror_mode": {
    "name": "ipython",
    "version": 3
   },
   "file_extension": ".py",
   "mimetype": "text/x-python",
   "name": "python",
   "nbconvert_exporter": "python",
   "pygments_lexer": "ipython3",
   "version": "3.11.2"
  }
 },
 "nbformat": 4,
 "nbformat_minor": 5
}

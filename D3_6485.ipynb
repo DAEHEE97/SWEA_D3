{
 "cells": [
  {
   "cell_type": "markdown",
   "id": "62c2d993",
   "metadata": {},
   "source": [
    "# D3_6485"
   ]
  },
  {
   "cell_type": "markdown",
   "id": "a0ecad82",
   "metadata": {},
   "source": [
    "삼성시에 있는 5,000개의 버스 정류장은 관리의 편의를 위해 1에서 5,000까지 번호가 붙어 있다.\n",
    "\n",
    "그리고 버스 노선은 N개가 있는데, i번째 버스 노선은 번호가 Ai이상이고,\n",
    "\n",
    "Bi이하인 모든 정류장만을 다니는 버스 노선이다.\n",
    "\n",
    "P개의 버스 정류장에 대해 각 정류장에 몇 개의 버스 노선이 다니는지 구하는 프로그램을 작성하라.\n",
    "\n",
    "\n",
    "## [입력]\n",
    "\n",
    "첫 번째 줄에 테스트 케이스의 수 T가 주어진다.\n",
    "\n",
    "각 테스트 케이스의 첫 번째 줄에는 하나의 정수 N ( 1 ≤ N ≤ 500 )이 주어진다.\n",
    "\n",
    "다음 N개의 줄의 i번째 줄에는 두 정수 Ai, Bi ( 1 ≤ Ai ≤ Bi ≤ 5,000 )가 공백 하나로 구분되어 주어진다.\n",
    "\n",
    "다음 줄에는 하나의 정수 P ( 1 ≤ P ≤ 500 )가 주어진다.\n",
    "\n",
    "다음 P개의 줄의 j번째 줄에는 하나의 정수 Cj ( 1 ≤ Cj ≤ 5,000 ) 가 주어진다.\n",
    "\n",
    "\n",
    "## [출력]\n",
    "\n",
    "각 테스트 케이스마다 ‘#x’(x는 테스트케이스 번호를 의미하며 1부터 시작한다)를 출력하고 한 칸을 띄운 후,\n",
    "\n",
    "한 줄에 P개의 정수를 공백 하나로 구분하여 출력한다.\n",
    "\n",
    "j번째 정수는 Cj번 버스 정류장을 지나는 버스 노선의 개수여야 한다."
   ]
  },
  {
   "cell_type": "markdown",
   "id": "706ee055",
   "metadata": {},
   "source": [
    "---"
   ]
  },
  {
   "cell_type": "markdown",
   "id": "cf61632c",
   "metadata": {},
   "source": [
    "## Memo\n",
    "\n",
    "입력\n",
    "\n",
    "버스정류장 5000개\n",
    "\n",
    "버스 노선 N개\n",
    "\n",
    "i 번쨰 (i=1, 첫번째) 버스 노선은 Ai이상 Bi이하 인 정류장을 다니는 버스 노선\n",
    "\n",
    "P개의 wㅜㄹ\n",
    "\n",
    "---\n",
    "출력\n",
    "\n",
    "P개의 버스 정류장에 대해 각 정류장(Cj)에 몇 개의 버스 노선이 다니는지 구하는 프로그램\n",
    "\n",
    "하나의 정수 P ( 1 ≤ P ≤ 500 )가 주어진다\n",
    "\n",
    "P개의 줄의 j번째 줄에는 하나의 정수 Cj ( 1 ≤ Cj ≤ 5,000 )\n",
    "\n",
    "---\n",
    "\n",
    "\n",
    "0 1 2 3 4 5 6 ...\n",
    "\n",
    "x o o o \n",
    "x x o o o o\n",
    "\n"
   ]
  },
  {
   "cell_type": "markdown",
   "id": "21c67293",
   "metadata": {},
   "source": [
    "---"
   ]
  },
  {
   "cell_type": "code",
   "execution_count": 1,
   "id": "213f3b4c",
   "metadata": {},
   "outputs": [
    {
     "name": "stdout",
     "output_type": "stream",
     "text": [
      "1\n",
      "2\n",
      "1 3\n",
      "2 5\n",
      "5\n",
      "1\n",
      "2\n",
      "3\n",
      "4\n",
      "5\n",
      "#1 1 2 2 1 1\n"
     ]
    }
   ],
   "source": [
    "T = int(input())\n",
    "\n",
    "for t in range(1,T+1):\n",
    "    \n",
    "    N = int(input()) \n",
    "    \n",
    "    lst = [0] * 5001\n",
    "    \n",
    "    for _ in range(N):\n",
    "        \n",
    "        A,B = map(int,input().split())\n",
    "        \n",
    "        for i in range(A,B+1):\n",
    "            lst[i] +=1\n",
    "    \n",
    "    P = int(input()) \n",
    "    \n",
    "    result = []\n",
    "\n",
    "    for _ in range(P):\n",
    "        C = int(input())\n",
    "        \n",
    "        result.append(lst[C])\n",
    "    \n",
    "    print('#{0}'.format(t), *result)\n",
    "            \n",
    "    \n",
    "    \n",
    "        \n",
    "    "
   ]
  }
 ],
 "metadata": {
  "kernelspec": {
   "display_name": "Python 3 (ipykernel)",
   "language": "python",
   "name": "python3"
  },
  "language_info": {
   "codemirror_mode": {
    "name": "ipython",
    "version": 3
   },
   "file_extension": ".py",
   "mimetype": "text/x-python",
   "name": "python",
   "nbconvert_exporter": "python",
   "pygments_lexer": "ipython3",
   "version": "3.11.2"
  }
 },
 "nbformat": 4,
 "nbformat_minor": 5
}

{
 "cells": [
  {
   "cell_type": "markdown",
   "id": "e29af492",
   "metadata": {},
   "source": [
    "# 1208. [S/W 문제해결 기본] 1일차 - Flatten\n",
    "\n",
    "-[1208](https://swexpertacademy.com/main/searchAll/search.do?category=&keyword=1208)"
   ]
  },
  {
   "cell_type": "markdown",
   "id": "aa7b3c09",
   "metadata": {},
   "source": [
    "한 쪽 벽면에 다음과 같이 노란색 상자들이 쌓여 있다.\n",
    "\n",
    "높은 곳의 상자를 낮은 곳에 옮기는 방식으로 최고점과 최저점의 간격을 줄이는 작업을 평탄화라고 한다.\n",
    "\n",
    "평탄화를 모두 수행하고 나면, 가장 높은 곳과 가장 낮은 곳의 차이가 최대 1 이내가 된다.\n",
    "\n",
    "평탄화 작업을 위해서 상자를 옮기는 작업 횟수에 제한이 걸려있을 때, 제한된 횟수만큼 옮기는 작업을 한 후 최고점과 최저점의 차이를 반환하는 프로그램을 작성하시오.\n",
    "\n",
    "\n",
    "\n",
    "\n",
    "가장 높은 곳에 있는 상자를 가장 낮은 곳으로 옮기는 작업을 덤프라고 정의한다.\n",
    "\n",
    "위의 예시에서 제1회 덤프를 수행한 이후 화면은 다음과 같다.\n",
    "\n",
    "\n",
    "A부분의 상자를 가장 낮은 B부분에 덤프하였으며, A대신 A’부분의 상자를 사용해도 무방하다.\n",
    "\n",
    "다음은 제2회 덤프를 수행한 이후의 화면이다.\n",
    "\n",
    "\n",
    "\n",
    "\n",
    "A’부분의 상자를 옮겨서, C부분에 덤프하였다. 이때 C 대신 C’부분에 덤프해도 무방하다.\n",
    "\n",
    "2회의 덤프 후, 최고점과 최저점의 차이는 8 – 2 = 6 이 되었다 (최초덤프 이전에는 9 – 1 = 8 이었다).\n",
    "\n",
    "덤프 횟수가 2회로 제한된다면, 이 예시 문제의 정답은 6이 된다.\n",
    "\n",
    "## [제약 사항]\n",
    "\n",
    "가로 길이는 항상 100으로 주어진다.\n",
    "\n",
    "모든 위치에서 상자의 높이는 1이상 100이하로 주어진다.\n",
    "\n",
    "덤프 횟수는 1이상 1000이하로 주어진다.\n",
    "\n",
    "주어진 덤프 횟수 이내에 평탄화가 완료되면 더 이상 덤프를 수행할 수 없으므로 그 때의 최고점과 최저점의 높이 차를 반환한다 (주어진 data에 따라 0 또는 1이 된다).\n",
    "\n",
    "## [입력]\n",
    "\n",
    "총 10개의 테스트 케이스가 주어지며, 각 테스트 케이스의 첫 번째 줄에는 덤프 횟수가 주어진다. 그리고 다음 줄에 각 상자의 높이값이 주어진다.\n",
    "\n",
    "## [출력]\n",
    "\n",
    "#부호와 함께 테스트 케이스의 번호를 출력하고, 공백 문자 후 테스트 케이스의 최고점과 최저점의 높이 차를 출력한다.\n",
    "\n"
   ]
  },
  {
   "cell_type": "markdown",
   "id": "bf29a6d9",
   "metadata": {},
   "source": [
    "---"
   ]
  },
  {
   "cell_type": "markdown",
   "id": "08177e6e",
   "metadata": {},
   "source": [
    "## Memo\n",
    "\n",
    "- 최대 값 - 연산 후, 최소 값 + 연산을 하면,\n",
    "\n",
    "- 연산 완료후, 최대값 최소값이 변경되므로, \n",
    "\n",
    "- 최대값 - 최소값 = max(lst) - min(lst)  o \n",
    "\n",
    "- 최대값 - 최소값 = lst[idx_max] - lst[idx_min]  x\n",
    "\n",
    "\n",
    "- 문제에서 출력하라는게 정확히 뭔지 파악 중요, + 예시 적용 "
   ]
  },
  {
   "cell_type": "code",
   "execution_count": 1,
   "id": "8f754fd7",
   "metadata": {},
   "outputs": [
    {
     "name": "stdout",
     "output_type": "stream",
     "text": [
      "834\n",
      "42 68 35 1 70 25 79 59 63 65 6 46 82 28 62 92 96 43 28 37 92 5 3 54 93 83 22 17 19 96 48 27 72 39 70 13 68 100 36 95 4 12 23 34 74 65 42 12 54 69 48 45 63 58 38 60 24 42 30 79 17 36 91 43 89 7 41 43 65 49 47 6 91 30 71 51 7 2 94 49 30 24 85 55 57 41 67 77 32 9 45 40 27 24 38 39 19 83 30 42\n",
      "#1 13\n"
     ]
    }
   ],
   "source": [
    "T = 10\n",
    "\n",
    "for t in range(1,T+1):\n",
    "    \n",
    "    # 덤프 횟수\n",
    "    N = int(input())\n",
    "    \n",
    "    lst = list(map(int, input().split()))\n",
    "    \n",
    "    # 높이차가 1 또는 0 이 되면 그때의 최고점과 최저점의 높이 차 반환\n",
    "    \n",
    "    for _ in range(N):\n",
    "        \n",
    "        idx_max = lst.index(max(lst))\n",
    "        idx_min = lst.index(min(lst))\n",
    "        \n",
    "        # 덤프\n",
    "        lst[idx_max] -= 1\n",
    "        lst[idx_min] += 1\n",
    "        \n",
    "        # 제약사항\n",
    "        if (max(lst) - min(lst) == 1) or (max(lst) - min(lst) == 0):\n",
    "            break\n",
    "        \n",
    "\n",
    "    print('#{0} {1}'.format(t,max(lst) - min(lst)))\n",
    "        "
   ]
  },
  {
   "cell_type": "markdown",
   "id": "5376d4dd",
   "metadata": {},
   "source": [
    "---\n"
   ]
  }
 ],
 "metadata": {
  "kernelspec": {
   "display_name": "Python 3 (ipykernel)",
   "language": "python",
   "name": "python3"
  },
  "language_info": {
   "codemirror_mode": {
    "name": "ipython",
    "version": 3
   },
   "file_extension": ".py",
   "mimetype": "text/x-python",
   "name": "python",
   "nbconvert_exporter": "python",
   "pygments_lexer": "ipython3",
   "version": "3.11.2"
  }
 },
 "nbformat": 4,
 "nbformat_minor": 5
}

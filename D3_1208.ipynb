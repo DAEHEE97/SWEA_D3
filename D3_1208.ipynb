{
 "cells": [
  {
   "cell_type": "markdown",
   "id": "e29af492",
   "metadata": {},
   "source": [
    "# 1208. [S/W 문제해결 기본] 1일차 - Flatten\n",
    "\n",
    "-[1208](https://swexpertacademy.com/main/searchAll/search.do?category=&keyword=1208)"
   ]
  },
  {
   "cell_type": "markdown",
   "id": "aa7b3c09",
   "metadata": {},
   "source": [
    "한 쪽 벽면에 다음과 같이 노란색 상자들이 쌓여 있다.\n",
    "\n",
    "높은 곳의 상자를 낮은 곳에 옮기는 방식으로 최고점과 최저점의 간격을 줄이는 작업을 평탄화라고 한다.\n",
    "\n",
    "평탄화를 모두 수행하고 나면, 가장 높은 곳과 가장 낮은 곳의 차이가 최대 1 이내가 된다.\n",
    "\n",
    "평탄화 작업을 위해서 상자를 옮기는 작업 횟수에 제한이 걸려있을 때, 제한된 횟수만큼 옮기는 작업을 한 후 최고점과 최저점의 차이를 반환하는 프로그램을 작성하시오.\n",
    "\n",
    "\n",
    "\n",
    "\n",
    "가장 높은 곳에 있는 상자를 가장 낮은 곳으로 옮기는 작업을 덤프라고 정의한다.\n",
    "\n",
    "위의 예시에서 제1회 덤프를 수행한 이후 화면은 다음과 같다.\n",
    "\n",
    "\n",
    "A부분의 상자를 가장 낮은 B부분에 덤프하였으며, A대신 A’부분의 상자를 사용해도 무방하다.\n",
    "\n",
    "다음은 제2회 덤프를 수행한 이후의 화면이다.\n",
    "\n",
    "\n",
    "\n",
    "\n",
    "A’부분의 상자를 옮겨서, C부분에 덤프하였다. 이때 C 대신 C’부분에 덤프해도 무방하다.\n",
    "\n",
    "2회의 덤프 후, 최고점과 최저점의 차이는 8 – 2 = 6 이 되었다 (최초덤프 이전에는 9 – 1 = 8 이었다).\n",
    "\n",
    "덤프 횟수가 2회로 제한된다면, 이 예시 문제의 정답은 6이 된다.\n",
    "\n",
    "## [제약 사항]\n",
    "\n",
    "가로 길이는 항상 100으로 주어진다.\n",
    "\n",
    "모든 위치에서 상자의 높이는 1이상 100이하로 주어진다.\n",
    "\n",
    "덤프 횟수는 1이상 1000이하로 주어진다.\n",
    "\n",
    "주어진 덤프 횟수 이내에 평탄화가 완료되면 더 이상 덤프를 수행할 수 없으므로 그 때의 최고점과 최저점의 높이 차를 반환한다 (주어진 data에 따라 0 또는 1이 된다).\n",
    "\n",
    "## [입력]\n",
    "\n",
    "총 10개의 테스트 케이스가 주어지며, 각 테스트 케이스의 첫 번째 줄에는 덤프 횟수가 주어진다. 그리고 다음 줄에 각 상자의 높이값이 주어진다.\n",
    "\n",
    "## [출력]\n",
    "\n",
    "#부호와 함께 테스트 케이스의 번호를 출력하고, 공백 문자 후 테스트 케이스의 최고점과 최저점의 높이 차를 출력한다.\n",
    "\n"
   ]
  },
  {
   "cell_type": "markdown",
   "id": "bf29a6d9",
   "metadata": {},
   "source": [
    "---"
   ]
  },
  {
   "cell_type": "markdown",
   "id": "c1fb2e8a",
   "metadata": {},
   "source": [
    "## Memo\n",
    "\n",
    "- 제약 사항, 예외 사항 찾고 시작\n",
    "\n",
    "- 정답 처리를 위해 출력하라는게 뭔지 정확히 파악 : 문제 제대로 읽고 해석하는게 제일 중요\n",
    "\n",
    "- 테스트 통과, 제출에서 오답 처리시, 문법, 출력 부분 다시 확인 #, format, 괄호 등등 \n",
    "\n",
    "\n",
    "케이스 10개 \n",
    "\n",
    "덤프 횟수 입력, 제한\n",
    "\n",
    "높이값 입력\n",
    "\n",
    "가로 길이 100, 상자 높이 100\n",
    "\n",
    "lst 입력\n",
    "\n",
    "max 에서 min \n",
    "\n",
    "5 8 3 1 5 6 9 9 2 2 4\n",
    "\n"
   ]
  },
  {
   "cell_type": "markdown",
   "id": "5376d4dd",
   "metadata": {},
   "source": [
    "---\n"
   ]
  },
  {
   "cell_type": "code",
   "execution_count": 1,
   "id": "20502d5b",
   "metadata": {},
   "outputs": [
    {
     "name": "stdout",
     "output_type": "stream",
     "text": [
      "2\n",
      "5 8 3 1 5 6 9 9 2 2 4\n",
      "#1 6\n"
     ]
    }
   ],
   "source": [
    "T = 1\n",
    "\n",
    "for t in range(1,T+1):\n",
    "    \n",
    "    # 덤프 횟수\n",
    "    N = int(input())\n",
    "    \n",
    "    lst = list(map(int, input().split()))\n",
    "    \n",
    "    \n",
    "    # 2번 \n",
    "    for _ in range(N):\n",
    "        \n",
    "        if max(lst) - min(lst) <= 1:\n",
    "            break\n",
    "            \n",
    "        max_idx = lst.index(max(lst))\n",
    "        max_v = lst[max_idx]\n",
    "        lst[max_idx] -= 1\n",
    "        \n",
    "        min_idx = lst.index(min(lst))\n",
    "        min_v = lst[min_idx]\n",
    "        lst[min_idx] += 1\n",
    "        \n",
    "    \n",
    "    dn =  max(lst) - min(lst)\n",
    "\n",
    "    print('#{0} {1}'.format(t,(dn)))\n",
    "        "
   ]
  }
 ],
 "metadata": {
  "kernelspec": {
   "display_name": "Python 3 (ipykernel)",
   "language": "python",
   "name": "python3"
  },
  "language_info": {
   "codemirror_mode": {
    "name": "ipython",
    "version": 3
   },
   "file_extension": ".py",
   "mimetype": "text/x-python",
   "name": "python",
   "nbconvert_exporter": "python",
   "pygments_lexer": "ipython3",
   "version": "3.11.2"
  }
 },
 "nbformat": 4,
 "nbformat_minor": 5
}

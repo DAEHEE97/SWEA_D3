{
 "cells": [
  {
   "cell_type": "markdown",
   "metadata": {},
   "source": [
    "# 11688. Calkin-Wilf tree 1"
   ]
  },
  {
   "cell_type": "markdown",
   "metadata": {},
   "source": [
    "---"
   ]
  },
  {
   "cell_type": "markdown",
   "metadata": {},
   "source": [
    "Calkin-Wilf tree는 모든 양의 유리수를 정확히 하나씩 포함하고 있는 트리다. 이 트리는 다음과 같이 정의된다\n",
    "    ∙ 트리의 루트는 1/1 을 나타낸다.\n",
    "    ∙ 트리의 각 노드는 왼쪽 자식과 오른쪽 자식을 가지는데 어떤 노드가 a/b 를 나타내고 있다면, 왼쪽 자식은 a/a+b 를 오른쪽 자식은 a+b/b 를 나타낸다.\n",
    "루트 노드에서부터, 자식을 따라 내려간 방향이 순서대로 주어질 때, 마지막에 위치한 노드가 어떤 유리수를 나타내는지 구하는 프로그램을 작성하라.\n",
    "\n",
    "## [입력]\n",
    "\n",
    "첫 번째 줄에 테스트 케이스의 수 T가 주어진다.\n",
    "각 테스트 케이스의 첫 번째 줄에는 길이 1이상 30이하인 문자열이 주어진다. 이 문자열은 ‘L’또는 ‘R’로만 이루어져 있으며, i번째 문자가 ‘L’이면 i번째로 이동할 때 현재 노드에서 왼쪽으로, ‘R’이면 i번째로 이동할 때 현재 노드에서 오른쪽으로 내려갔음을 의미한다. \n",
    "\n",
    "## [출력]\n",
    "\n",
    "각 테스트 케이스마다 주어진 문자열을 따라 이동을 끝냈을 때, 위치한 노드가 나타내는 유리수가 기약분수로 a/b 이면 a와 b를 공백 하나로 구분하여 출력한다.\n",
    "\n",
    "```\n",
    "      1/1\n",
    "    1/2 2/1\n",
    "1/3 3/2  2/3 3/1\n",
    "```\n"
   ]
  },
  {
   "cell_type": "markdown",
   "metadata": {},
   "source": [
    "---"
   ]
  },
  {
   "cell_type": "code",
   "execution_count": 1,
   "metadata": {},
   "outputs": [
    {
     "name": "stdout",
     "output_type": "stream",
     "text": [
      "3\n",
      "L\n",
      "#1 1 2\n",
      "R\n",
      "#2 2 1\n",
      "LR\n",
      "#3 3 2\n"
     ]
    }
   ],
   "source": [
    "T = int(input())\n",
    "\n",
    "\n",
    "for t in range(1,T+1):\n",
    "    \n",
    "    ca,cb = 1,1\n",
    "\n",
    "    lst = list(input())\n",
    "\n",
    "    for i in lst:\n",
    "        if i == 'L':\n",
    "            ca,cb = ca, ca+cb # 왼쪽 자식\n",
    "        \n",
    "        else:\n",
    "            ca,cb = ca+cb,cb # 오른쪽 자식\n",
    "\n",
    "            \n",
    "    print('#{0} {1} {2}'.format(t, ca, cb))\n",
    "\n"
   ]
  },
  {
   "cell_type": "markdown",
   "metadata": {},
   "source": [
    "----"
   ]
  }
 ],
 "metadata": {
  "hide_input": false,
  "kernelspec": {
   "display_name": "Python 3 (ipykernel)",
   "language": "python",
   "name": "python3"
  },
  "language_info": {
   "codemirror_mode": {
    "name": "ipython",
    "version": 3
   },
   "file_extension": ".py",
   "mimetype": "text/x-python",
   "name": "python",
   "nbconvert_exporter": "python",
   "pygments_lexer": "ipython3",
   "version": "3.11.2"
  },
  "toc": {
   "base_numbering": 1,
   "nav_menu": {},
   "number_sections": true,
   "sideBar": true,
   "skip_h1_title": false,
   "title_cell": "Table of Contents",
   "title_sidebar": "Contents",
   "toc_cell": false,
   "toc_position": {},
   "toc_section_display": true,
   "toc_window_display": false
  }
 },
 "nbformat": 4,
 "nbformat_minor": 4
}

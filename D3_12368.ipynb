{
 "cells": [
  {
   "cell_type": "markdown",
   "metadata": {},
   "source": [
    "# 12368. 24시간 "
   ]
  },
  {
   "cell_type": "markdown",
   "metadata": {},
   "source": [
    "하루는 24시간이다. \n",
    "\n",
    "24시간제 시계에서는 하루가 자정에서 시작해서 다음 날 자정에서 끝나며, 자정에서부터 지금까지 흐른 시간을 기준으로 시각을 표기한다. \n",
    "\n",
    "\n",
    "예를 들어, 지금이 오후 8시라면 “20시”와 같은 꼴로 표현할 수 있다. \n",
    "\n",
    "자정을 표기하는 유일한 방법은 “0시”임에 유의하라.\n",
    " \n",
    "지금은 자정에서부터 정확히 A시간이 지났다. \n",
    "\n",
    "앞으로 정확히 B시간이 더 지난다면, \n",
    "\n",
    "24시간제 시계에서 그 때는 몇 시일까?\n",
    "\n",
    "## [입력]\n",
    "\n",
    "첫 번째 줄에 테스트 케이스의 수 T가 주어진다.\n",
    "\n",
    "각 테스트 케이스의 첫 번째 줄에는 두 개의 정수 A, B (0 ≤ A, B ≤ 23)이 공백 하나를 사이로 두고 순서대로 주어진다.\n",
    "\n",
    "## [출력]\n",
    "\n",
    "각 테스트 케이스마다, 현재 A시인 상황에서 앞으로 B시간이 지나면 몇 시가 되는지를 출력한다.\n",
    "\n",
    "## MEMO\n",
    "\n",
    "- 12시간제\n",
    "    - 24시 02분  >  12시 02분 \n",
    "- 24시간제\n",
    "    - 24시 > 0시\n",
    "  "
   ]
  },
  {
   "cell_type": "markdown",
   "metadata": {},
   "source": [
    "----"
   ]
  },
  {
   "cell_type": "code",
   "execution_count": 1,
   "metadata": {},
   "outputs": [
    {
     "name": "stdout",
     "output_type": "stream",
     "text": [
      "3\n",
      "1 9\n",
      "#1 10\n",
      "7 17\n",
      "#2 0\n",
      "23 23\n",
      "#3 22\n"
     ]
    }
   ],
   "source": [
    "T = int(input())\n",
    "\n",
    "for t in range(1,T+1):\n",
    "    \n",
    "    A,B = map(int,input().split())\n",
    "    \n",
    "    h = (A+B) % 24\n",
    "    \n",
    "    print('#{0} {1}'.format(t,h))\n",
    "        "
   ]
  },
  {
   "cell_type": "markdown",
   "metadata": {},
   "source": [
    "----"
   ]
  },
  {
   "cell_type": "code",
   "execution_count": 2,
   "metadata": {},
   "outputs": [
    {
     "data": {
      "text/plain": [
       "(0, 12, 0, 3)"
      ]
     },
     "execution_count": 2,
     "metadata": {},
     "output_type": "execute_result"
    }
   ],
   "source": [
    "0 % 24, 12 % 24, 24 % 24, 27 % 24"
   ]
  },
  {
   "cell_type": "markdown",
   "metadata": {},
   "source": [
    "----"
   ]
  }
 ],
 "metadata": {
  "hide_input": false,
  "kernelspec": {
   "display_name": "Python 3 (ipykernel)",
   "language": "python",
   "name": "python3"
  },
  "language_info": {
   "codemirror_mode": {
    "name": "ipython",
    "version": 3
   },
   "file_extension": ".py",
   "mimetype": "text/x-python",
   "name": "python",
   "nbconvert_exporter": "python",
   "pygments_lexer": "ipython3",
   "version": "3.11.2"
  },
  "toc": {
   "base_numbering": 1,
   "nav_menu": {},
   "number_sections": true,
   "sideBar": true,
   "skip_h1_title": false,
   "title_cell": "Table of Contents",
   "title_sidebar": "Contents",
   "toc_cell": false,
   "toc_position": {},
   "toc_section_display": true,
   "toc_window_display": false
  }
 },
 "nbformat": 4,
 "nbformat_minor": 4
}

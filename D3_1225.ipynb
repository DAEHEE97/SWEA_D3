{
 "cells": [
  {
   "cell_type": "markdown",
   "id": "9d2e010e",
   "metadata": {},
   "source": [
    "# 1225. [S/W 문제해결 기본] 7일차 - 암호생성기\n"
   ]
  },
  {
   "cell_type": "markdown",
   "id": "f9e99374",
   "metadata": {},
   "source": [
    "다음 주어진 조건에 따라 n개의 수를 처리하면 8자리의 암호를 생성할 수 있다.\n",
    "\n",
    "- 8개의 숫자를 입력 받는다.\n",
    "\n",
    "- 첫 번째 숫자를 1 감소한 뒤, 맨 뒤로 보낸다. \n",
    "\n",
    "다음 첫 번째 수는 2 감소한 뒤 맨 뒤로, 그 다음 첫 번째 수는 3을 감소하고 맨 뒤로, 그 다음 수는 4, 그 다음 수는 5를 감소한다.\n",
    "\n",
    "이와 같은 작업을 한 사이클이라 한다.\n",
    "\n",
    "- 숫자가 감소할 때 0보다 작아지는 경우 0으로 유지되며, 프로그램은 종료된다. 이 때의 8자리의 숫자 값이 암호가 된다.\n",
    "\n",
    "\n",
    "\n",
    " \n",
    "## [제약 사항]\n",
    "\n",
    "주어지는 각 수는 integer 범위를 넘지 않는다.\n",
    "\n",
    "마지막 암호 배열은 모두 한 자리 수로 구성되어 있다.\n",
    " \n",
    "## [입력]\n",
    "\n",
    "각 테스트 케이스의 첫 줄에는 테스트 케이스의 번호가 주어지고, 그 다음 줄에는 8개의 데이터가 주어진다.\n",
    " \n",
    "## [출력]\n",
    "\n",
    "#부호와 함께 테스트케이스의 번호를 출력하고, 공백 문자 후 테스트 케이스의 답을 출력한다."
   ]
  },
  {
   "cell_type": "markdown",
   "id": "c7f480a7",
   "metadata": {},
   "source": [
    "---"
   ]
  },
  {
   "cell_type": "markdown",
   "id": "90730a1f",
   "metadata": {},
   "source": [
    "## Memo\n",
    "\n",
    "\n",
    "```.py\n",
    "while(1):\n",
    "    \n",
    "    for :\n",
    "    \n",
    "      if:\n",
    "        \n",
    "        break\n",
    "            \n",
    "```\n",
    "\n",
    "- for문 탈출하면서 while까지 탈출 하고 싶으면, 'flag'를 써서 둘다 탈출\n",
    "\n",
    "```.py\n",
    "while(1):\n",
    "    \n",
    "    for :\n",
    "    \n",
    "        if:\n",
    "           flag = True\n",
    "           break\n",
    "    \n",
    "    if flag:\n",
    "       break\n",
    "       \n",
    "```\n",
    "\n",
    "\n"
   ]
  },
  {
   "cell_type": "markdown",
   "id": "46730cde",
   "metadata": {},
   "source": [
    "---"
   ]
  },
  {
   "cell_type": "code",
   "execution_count": 1,
   "id": "8083dd91",
   "metadata": {},
   "outputs": [
    {
     "name": "stdout",
     "output_type": "stream",
     "text": [
      "1\n",
      "10 6 12 8 9 4 1 3\n",
      "#1 3 9 4 9 4 4 3 0\n"
     ]
    }
   ],
   "source": [
    "T = 1\n",
    "\n",
    "\n",
    "for t in range(1,T+1):\n",
    "    \n",
    "    _ = int(input())\n",
    "    \n",
    "    lst = list(map(int,input().split()))\n",
    "    \n",
    "    flag = False\n",
    "\n",
    "    while(1):\n",
    "\n",
    "        for i in range(1,5+1):\n",
    "\n",
    "            tmp = lst.pop(0)-i\n",
    "            lst.append(tmp)\n",
    "            flag = False\n",
    "\n",
    "            if tmp<=0:\n",
    "                lst[-1] = 0\n",
    "                flag = True\n",
    "                break\n",
    "\n",
    "        if flag:\n",
    "            break\n",
    "            \n",
    "    \n",
    "    print('#{0}'.format(t),*lst)\n",
    "\n",
    "\n"
   ]
  },
  {
   "cell_type": "markdown",
   "id": "c8b14349",
   "metadata": {},
   "source": [
    "---"
   ]
  },
  {
   "cell_type": "code",
   "execution_count": null,
   "id": "36325a93",
   "metadata": {},
   "outputs": [],
   "source": [
    "T = 10\n",
    "\n",
    "\n",
    "for t in range(1,T+1):\n",
    "    \n",
    "    _ = int(input())\n",
    "    \n",
    "    lst = list(map(int,input().split()))\n",
    "    \n",
    "    flag = False\n",
    "\n",
    "    while(1):\n",
    "        # 1~5 사이클\n",
    "        for i in range(1,5+1):\n",
    "\n",
    "            tmp = lst.pop(0) - i\n",
    "\n",
    "            \n",
    "            if tmp<=0:\n",
    "                tmp = 0\n",
    "                lst.append(tmp)\n",
    "                flag = True\n",
    "                break\n",
    "            \n",
    "            lst.append(tmp)\n",
    "            flag = False\n",
    "            \n",
    "        \n",
    "        if flag:\n",
    "            break\n",
    "\n",
    "\n",
    "    print('#{0}'.format(t),*lst)\n"
   ]
  }
 ],
 "metadata": {
  "kernelspec": {
   "display_name": "Python 3 (ipykernel)",
   "language": "python",
   "name": "python3"
  },
  "language_info": {
   "codemirror_mode": {
    "name": "ipython",
    "version": 3
   },
   "file_extension": ".py",
   "mimetype": "text/x-python",
   "name": "python",
   "nbconvert_exporter": "python",
   "pygments_lexer": "ipython3",
   "version": "3.11.2"
  }
 },
 "nbformat": 4,
 "nbformat_minor": 5
}

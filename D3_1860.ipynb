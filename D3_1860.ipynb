{
 "cells": [
  {
   "cell_type": "markdown",
   "id": "fc10c946",
   "metadata": {},
   "source": [
    "# 1860. 진기의 최고급 붕어빵\n",
    "\n",
    "- [1860](https://swexpertacademy.com/main/code/problem/problemDetail.do?contestProbId=AV5LsaaqDzYDFAXc)"
   ]
  },
  {
   "cell_type": "markdown",
   "id": "f1fcf3f2",
   "metadata": {},
   "source": [
    "---"
   ]
  },
  {
   "cell_type": "markdown",
   "id": "7b531ffc",
   "metadata": {},
   "source": [
    "진기는 붕어빵 가게를 운영하고 있다.\n",
    "\n",
    "진기가 파는 붕어빵은 그냥 붕어빵이 아니라 겉은 바삭! 속은 말랑! 한입 물면 팥 앙금이 주르륵 흘러 입안에서 춤을 추며,\n",
    "\n",
    "절로 어릴 적 호호 불며 먹었던 뜨거운 붕어빵의 추억이 떠올라 눈물이 나오게 되는 최고급 붕어빵이다.\n",
    "\n",
    "진기는 이런 붕어빵을 보통 사람들에게는 팔지 않는다.\n",
    "\n",
    "그는 무조건 예약제로만 손님을 받으며, 예약을 하려는 손님들은 진기의 까다로운 자격 검증에서 합격해야만 붕어빵을 맛 볼 자격을 얻는다.\n",
    "\n",
    "그래서 오늘은 N명의 사람이 자격을 얻었다.\n",
    "\n",
    "진기는 0초부터 붕어빵을 만들기 시작하며, M초의 시간을 들이면 K개의 붕어빵을 만들 수 있다.\n",
    "\n",
    "서빙은 진기가 하는 것이 아니기 때문에, 붕어빵이 완성되면 어떤 시간 지연도 없이 다음 붕어빵 만들기를 시작할 수 있다.\n",
    "\n",
    "0초 이후에 손님들이 언제 도착하는지 주어지면, 모든 손님들에게 기다리는 시간없이 붕어빵을 제공할 수 있는지 판별하는 프로그램을 작성하라.\n",
    "\n",
    "\n",
    "## [입력]\n",
    "\n",
    "첫 번째 줄에 테스트 케이스의 수 T가 주어진다.\n",
    "\n",
    "각 테스트 케이스의 첫 번째 줄에는 세 자연수 N, M, K(1 ≤ N, M, K ≤ 100)가 공백으로 구분되어 주어진다.\n",
    "\n",
    "두 번째 줄에는 N개의 정수가 공백으로 구분되어 주어지며,\n",
    "\n",
    "각 정수는 각 사람이 언제 도착하는지를 초 단위로 나타낸다. 각 수는 0이상 11,111이하이다.\n",
    "\n",
    "\n",
    "## [출력]\n",
    "\n",
    "각 테스트 케이스마다 ‘#x’(x는 테스트케이스 번호를 의미하며 1부터 시작한다)를 출력하고,\n",
    "\n",
    "모든 손님에 대해 기다리는 시간이 없이 붕어빵을 제공할 수 있으면 “Possible”을, 아니라면 “Impossible”을 출력한다.\n",
    "\n",
    "\n",
    "## Memo\n",
    "\n",
    "2번째 테스트 케이스의 경우, 2초가 지날 때마다 붕어빵을 2개씩 만들 수 있다.\n",
    "\n",
    "하지만 손님 1명은 1초에 도착하므로 이 손님에게는 붕어빵을 바로 제공할 수 없다.\n",
    "\n",
    "따라서 결과값으로 Impossible 출력한다."
   ]
  },
  {
   "cell_type": "markdown",
   "id": "2f7f4ca7",
   "metadata": {},
   "source": []
  },
  {
   "cell_type": "markdown",
   "id": "d69c46dd",
   "metadata": {},
   "source": [
    "---"
   ]
  },
  {
   "cell_type": "markdown",
   "id": "f66f7350",
   "metadata": {},
   "source": [
    "## src 1\n",
    "\n",
    "- 손님이 등장 했을때, 몇명 까지 들어왔었는지 확인후,\n",
    "\n",
    "- 손님이 등장한 시간에 몇개 가 생산되어 있는지 확인하여 처리"
   ]
  },
  {
   "cell_type": "code",
   "execution_count": null,
   "id": "e9992de7",
   "metadata": {},
   "outputs": [],
   "source": [
    "T = int(input())\n",
    "\n",
    "for t in range(1,T+1):\n",
    "    \n",
    "    # N 명, M초, K개 \n",
    "    N, M, K = map(int,input().split())\n",
    "    \n",
    "    # N명이 언제 입장헀는지 입력, 시간순으로 오름차순\n",
    "    \n",
    "    lst = list(map(int,input().split()))\n",
    "    lst.sort()\n",
    "\n",
    "    cnt = 0 # 입장 손님 수\n",
    "    \n",
    "    flag = False\n",
    "    \n",
    "    for i in lst:\n",
    "        \n",
    "        cnt += 1 # 사람 입장 수\n",
    "        \n",
    "        P = (i // M) * K\n",
    "        \n",
    "        if P >= cnt:\n",
    "            flag = True\n",
    "        \n",
    "        else:\n",
    "            print('#{0} {1}'.format(t,'Impossible'))\n",
    "            flag = False\n",
    "            break\n",
    "            \n",
    "    \n",
    "    if flag:\n",
    "        print('#{0} {1}'.format(t,'Possible'))\n",
    "\n",
    "        "
   ]
  },
  {
   "cell_type": "markdown",
   "id": "4698be1c",
   "metadata": {},
   "source": [
    "---"
   ]
  },
  {
   "cell_type": "code",
   "execution_count": null,
   "id": "fe6d5567",
   "metadata": {},
   "outputs": [],
   "source": [
    "# 굳이 flag로 처리 하지않고,\n",
    "# 바로 정답처리로 출력 문자열을 flag로서 사용\n",
    "\n",
    "\n",
    "T = int(input())\n",
    "\n",
    "for t in range(1,T+1):\n",
    "    \n",
    "    # N 명, M초, K개 \n",
    "    N, M, K = map(int,input().split())\n",
    "    \n",
    "    # N명이 언제 입장헀는지 입력, 시간순으로 오름차순\n",
    "    \n",
    "    lst = list(map(int,input().split()))\n",
    "    lst.sort()\n",
    "\n",
    "    cnt = 0 # 손님수\n",
    "    \n",
    "    \n",
    "    ans = 'Possible'\n",
    "    \n",
    "    for i in lst:\n",
    "        \n",
    "        cnt += 1 # 사람 입장 수\n",
    "        \n",
    "        P = (i // M) * K\n",
    "        \n",
    "        if P < cnt:\n",
    "            ans = 'Impossible'\n",
    "            break\n",
    "        \n",
    "        ans = 'Possible'\n",
    "\n",
    "    \n",
    "    print('#{0} {1}'.format(t,ans))\n",
    "\n",
    "        "
   ]
  },
  {
   "cell_type": "markdown",
   "id": "7c418eb7",
   "metadata": {},
   "source": [
    "2초마다 니까"
   ]
  },
  {
   "cell_type": "markdown",
   "id": "9ddee65f",
   "metadata": {},
   "source": [
    "---"
   ]
  },
  {
   "cell_type": "markdown",
   "id": "cb211f54",
   "metadata": {},
   "source": [
    "## src 2\n",
    "\n",
    "- 손님 입장시 현재 남아있는 총 개수 가 현재 손님이 사갈 수 보다 많으면 o 처리\n",
    "- 이전에 손님이 사갔는지 처리\n",
    "\n"
   ]
  },
  {
   "cell_type": "code",
   "execution_count": null,
   "id": "47d0eac4",
   "metadata": {},
   "outputs": [],
   "source": [
    "# 2초 마다 2개씩 생성\n",
    "# 3초 입장시 생성되어 있는 수 , + 아직까지 팔린수 가 없다면 가정 (첫 손님), 현재 빵 수 는 2개\n",
    "\n",
    "cnt = 0\n",
    "\n",
    "(3 // 2 * 2) - cnt"
   ]
  },
  {
   "cell_type": "code",
   "execution_count": null,
   "id": "41356fa9",
   "metadata": {},
   "outputs": [],
   "source": [
    "# 2초 마다 2개씩 생성\n",
    "# 4초 입장시 생성되어 있는 수, + 3초에 입장해서 하나 팔았으므로, 현재 남아있는 빵 수 는 3개  \n",
    "\n",
    "cnt = 1\n",
    "(4 // 2 * 2) - cnt"
   ]
  },
  {
   "cell_type": "markdown",
   "id": "bef153d5",
   "metadata": {},
   "source": [
    "---"
   ]
  },
  {
   "cell_type": "code",
   "execution_count": null,
   "id": "22335c32",
   "metadata": {},
   "outputs": [],
   "source": [
    "T = int(input())\n",
    "\n",
    "for t in range(1,T+1):\n",
    "    \n",
    "    # N 명, M초, K개 \n",
    "    N, M, K = map(int,input().split())\n",
    "    \n",
    "    # N명이 언제 입장헀는지 입력   시간순으로 오름차순\n",
    "\n",
    "    lst = list(map(int,input().split()))\n",
    "    lst.sort()\n",
    "    \n",
    "    # 첫번째로 온사람 입장\n",
    "    \n",
    "    \n",
    "    cnt = 0 # 손님이 빵 사갈때 마다 + 1\n",
    "\n",
    "    for c in lst:\n",
    "        \n",
    "        total = ((c // M) * K) - cnt # s초에 입장시 현재 총 빵 수 - cnt 처리 해서, 남은 량 까지 처리   \n",
    "        \n",
    "        if total >= 1:\n",
    "            cnt +=1 # 입장시 마다 +1 총량에서 제거 해야함\n",
    "            flag = True \n",
    "        \n",
    "        else:\n",
    "            print('#{0} {1}'.format(t,'Impossible'))\n",
    "            flag = False \n",
    "            break\n",
    "        \n",
    "\n",
    "    if flag:\n",
    "        print('#{0} {1}'.format(t,'Possible'))\n",
    "\n",
    "        \n",
    "        \n",
    "        \n",
    "        \n",
    "        \n",
    "        \n",
    "    \n",
    "    "
   ]
  }
 ],
 "metadata": {
  "kernelspec": {
   "display_name": "Python 3 (ipykernel)",
   "language": "python",
   "name": "python3"
  },
  "language_info": {
   "codemirror_mode": {
    "name": "ipython",
    "version": 3
   },
   "file_extension": ".py",
   "mimetype": "text/x-python",
   "name": "python",
   "nbconvert_exporter": "python",
   "pygments_lexer": "ipython3",
   "version": "3.8.16"
  },
  "toc": {
   "base_numbering": 1,
   "nav_menu": {},
   "number_sections": true,
   "sideBar": true,
   "skip_h1_title": false,
   "title_cell": "Table of Contents",
   "title_sidebar": "Contents",
   "toc_cell": false,
   "toc_position": {
    "height": "calc(100% - 180px)",
    "left": "10px",
    "top": "150px",
    "width": "236.390625px"
   },
   "toc_section_display": true,
   "toc_window_display": true
  },
  "varInspector": {
   "cols": {
    "lenName": 16,
    "lenType": 16,
    "lenVar": 40
   },
   "kernels_config": {
    "python": {
     "delete_cmd_postfix": "",
     "delete_cmd_prefix": "del ",
     "library": "var_list.py",
     "varRefreshCmd": "print(var_dic_list())"
    },
    "r": {
     "delete_cmd_postfix": ") ",
     "delete_cmd_prefix": "rm(",
     "library": "var_list.r",
     "varRefreshCmd": "cat(var_dic_list()) "
    }
   },
   "types_to_exclude": [
    "module",
    "function",
    "builtin_function_or_method",
    "instance",
    "_Feature"
   ],
   "window_display": false
  }
 },
 "nbformat": 4,
 "nbformat_minor": 5
}

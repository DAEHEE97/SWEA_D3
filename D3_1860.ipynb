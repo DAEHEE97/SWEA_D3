{
 "cells": [
  {
   "cell_type": "markdown",
   "id": "fc10c946",
   "metadata": {},
   "source": [
    "# 1860. 진기의 최고급 붕어빵\n",
    "\n",
    "- [1860](https://swexpertacademy.com/main/code/problem/problemDetail.do?contestProbId=AV5LsaaqDzYDFAXc)"
   ]
  },
  {
   "cell_type": "markdown",
   "id": "7b531ffc",
   "metadata": {},
   "source": [
    "진기는 붕어빵 가게를 운영하고 있다.\n",
    "\n",
    "진기가 파는 붕어빵은 그냥 붕어빵이 아니라 겉은 바삭! 속은 말랑! 한입 물면 팥 앙금이 주르륵 흘러 입안에서 춤을 추며,\n",
    "\n",
    "절로 어릴 적 호호 불며 먹었던 뜨거운 붕어빵의 추억이 떠올라 눈물이 나오게 되는 최고급 붕어빵이다.\n",
    "\n",
    "진기는 이런 붕어빵을 보통 사람들에게는 팔지 않는다.\n",
    "\n",
    "그는 무조건 예약제로만 손님을 받으며, 예약을 하려는 손님들은 진기의 까다로운 자격 검증에서 합격해야만 붕어빵을 맛 볼 자격을 얻는다.\n",
    "\n",
    "그래서 오늘은 N명의 사람이 자격을 얻었다.\n",
    "\n",
    "진기는 0초부터 붕어빵을 만들기 시작하며, M초의 시간을 들이면 K개의 붕어빵을 만들 수 있다.\n",
    "\n",
    "서빙은 진기가 하는 것이 아니기 때문에, 붕어빵이 완성되면 어떤 시간 지연도 없이 다음 붕어빵 만들기를 시작할 수 있다.\n",
    "\n",
    "0초 이후에 손님들이 언제 도착하는지 주어지면, 모든 손님들에게 기다리는 시간없이 붕어빵을 제공할 수 있는지 판별하는 프로그램을 작성하라.\n",
    "\n",
    "\n",
    "## [입력]\n",
    "\n",
    "첫 번째 줄에 테스트 케이스의 수 T가 주어진다.\n",
    "\n",
    "각 테스트 케이스의 첫 번째 줄에는 세 자연수 N, M, K(1 ≤ N, M, K ≤ 100)가 공백으로 구분되어 주어진다.\n",
    "\n",
    "두 번째 줄에는 N개의 정수가 공백으로 구분되어 주어지며,\n",
    "\n",
    "각 정수는 각 사람이 언제 도착하는지를 초 단위로 나타낸다. 각 수는 0이상 11,111이하이다.\n",
    "\n",
    "\n",
    "## [출력]\n",
    "\n",
    "각 테스트 케이스마다 ‘#x’(x는 테스트케이스 번호를 의미하며 1부터 시작한다)를 출력하고,\n",
    "\n",
    "모든 손님에 대해 기다리는 시간이 없이 붕어빵을 제공할 수 있으면 “Possible”을, 아니라면 “Impossible”을 출력한다.\n",
    "\n",
    "\n",
    "## [예제 풀이]\n",
    "\n",
    "2번째 테스트 케이스의 경우, 2초가 지날 때마다 붕어빵을 2개씩 만들 수 있다.\n",
    "\n",
    "하지만 손님 1명은 1초에 도착하므로 이 손님에게는 붕어빵을 바로 제공할 수 없다.\n",
    "\n",
    "따라서 결과값으로 Impossible 출력한다."
   ]
  },
  {
   "cell_type": "markdown",
   "id": "f8a35cec",
   "metadata": {},
   "source": [
    "---"
   ]
  },
  {
   "cell_type": "markdown",
   "id": "4a398011",
   "metadata": {},
   "source": [
    "## Memo\n",
    "\n",
    "- state 처리하여, 반복문 나왔을시 2번 처리되는걸 방지\n",
    "    - Impossible 출력후 다시 possible 출력 방지\n",
    "    \n",
    "\n",
    "손님 입장 시간 lst 에서 s 를 꺼냈을 때마다, 검사를 함\n",
    "\n",
    "s 초 입장시, 그 시간대 생산된 현재 total 빵 수 (-cnt)\n",
    "\n",
    "손님 이 구입하는 need 빵수 1\n",
    "\n",
    "크기 비교 \n",
    "\n",
    "손님이 빵 구입시, cnt+=1 처리하여, 다음 검사시, 현재 총량에서 -cnt 하여, \n",
    "\n",
    "남은 수량으로 처리\n",
    "\n",
    "\n",
    "ex)\n",
    "2초에 2개씩 생성\n",
    "\n",
    "2초 입장 o\n",
    "3초 입장 x\n",
    "\n"
   ]
  },
  {
   "cell_type": "markdown",
   "id": "58b2c1a1",
   "metadata": {},
   "source": [
    "---"
   ]
  },
  {
   "cell_type": "code",
   "execution_count": null,
   "id": "bc954303",
   "metadata": {},
   "outputs": [],
   "source": [
    "# 2초 마다 2개씩 생성\n",
    "# 3초 입장시 생성되어 있는 수 , + 아직까지 팔린수 가 없다면 가정 (첫 손님), 현재 빵 수 는 2개\n",
    "\n",
    "cnt = 0\n",
    "\n",
    "(3 // 2 * 2) - cnt"
   ]
  },
  {
   "cell_type": "code",
   "execution_count": null,
   "id": "0ae29295",
   "metadata": {},
   "outputs": [],
   "source": [
    "# 2초 마다 2개씩 생성\n",
    "# 4초 입장시 생성되어 있는 수, + 3초에 입장해서 하나 팔았으므로, 현재 남아있는 빵 수 는 3개  \n",
    "\n",
    "cnt = 1\n",
    "(4 // 2 * 2) - cnt"
   ]
  },
  {
   "cell_type": "markdown",
   "id": "7293dee2",
   "metadata": {},
   "source": [
    "---"
   ]
  },
  {
   "cell_type": "code",
   "execution_count": 3,
   "id": "22335c32",
   "metadata": {},
   "outputs": [
    {
     "name": "stdout",
     "output_type": "stream",
     "text": [
      "4\n",
      "2 2 2\n",
      "3 4\n",
      "#1 Possible\n",
      "2 2 2\n",
      "1 2\n",
      "#2 Impossible\n",
      "2 2 1\n",
      "4 2\n",
      "#3 Possible\n",
      "2 2 1\n",
      "3 2\n",
      "#4 Impossible\n"
     ]
    }
   ],
   "source": [
    "T = int(input())\n",
    "\n",
    "for t in range(1,T+1):\n",
    "    \n",
    "    # N 명, M초, K개 \n",
    "    N, M, K = map(int,input().split())\n",
    "    \n",
    "    # N명이 언제 입장헀는지 입력   시간순으로 오름차순\n",
    "\n",
    "    lst = list(map(int,input().split()))\n",
    "    lst.sort()\n",
    "    \n",
    "    # 첫번째로 온사람 입장\n",
    "    \n",
    "    total = 0 # 현재 생산된 량\n",
    "    cnt = 0 # 손님이 빵 사갈때 마다 총량에서 산 만큼 제외 시켜야 함\n",
    "    \n",
    "    need = 1 # 손님 입장시 빵 한개를 삼\n",
    "    \n",
    "    for s in lst:\n",
    "        \n",
    "        state = 1\n",
    "        total = ((s // M) * K) - cnt # s초에 입장시 현재 총 빵 수 - cnt 처리 해서, 남은 량 까지 처리   \n",
    "        \n",
    "        if need <= total:\n",
    "            cnt +=1 # 입장시 마다 +1 총량에서 제거 해야함\n",
    "            state = 1\n",
    "        \n",
    "        else:\n",
    "            print('#{0} {1}'.format(t,'Impossible'))\n",
    "            state = 0\n",
    "            break\n",
    "        \n",
    "\n",
    "    if (state == 1):\n",
    "        print('#{0} {1}'.format(t,'Possible'))\n",
    "\n",
    "        \n",
    "        \n",
    "        \n",
    "        \n",
    "        \n",
    "        \n",
    "    \n",
    "    "
   ]
  },
  {
   "cell_type": "markdown",
   "id": "50e124e6",
   "metadata": {},
   "source": [
    "---"
   ]
  },
  {
   "cell_type": "code",
   "execution_count": null,
   "id": "23da0a57",
   "metadata": {},
   "outputs": [],
   "source": [
    "T = int(input())\n",
    "for test_case in range(1, T + 1):\n",
    "    \n",
    "    N, M, K = map(int, input().split())\n",
    "    \n",
    "    lst = list(map(int, input().split()))\n",
    " \n",
    "    lst.sort()\n",
    " \n",
    "    ans = 'Possible'\n",
    "    \n",
    "    cnt = 0\n",
    "    \n",
    "    for t in lst:\n",
    "        \n",
    "        cnt += 1\n",
    "        \n",
    "        if (t//M)*K < cnt:\n",
    "            ans = 'Impossible'\n",
    "            break\n",
    " \n",
    "    print(f'#{test_case} {ans}')"
   ]
  }
 ],
 "metadata": {
  "kernelspec": {
   "display_name": "Python 3 (ipykernel)",
   "language": "python",
   "name": "python3"
  },
  "language_info": {
   "codemirror_mode": {
    "name": "ipython",
    "version": 3
   },
   "file_extension": ".py",
   "mimetype": "text/x-python",
   "name": "python",
   "nbconvert_exporter": "python",
   "pygments_lexer": "ipython3",
   "version": "3.11.2"
  }
 },
 "nbformat": 4,
 "nbformat_minor": 5
}

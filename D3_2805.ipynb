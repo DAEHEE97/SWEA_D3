{
 "cells": [
  {
   "cell_type": "markdown",
   "id": "11788952",
   "metadata": {},
   "source": [
    "# 2805. 농작물 수확하기"
   ]
  },
  {
   "cell_type": "markdown",
   "id": "edee75fb",
   "metadata": {},
   "source": [
    "---"
   ]
  },
  {
   "cell_type": "markdown",
   "id": "90088519",
   "metadata": {},
   "source": [
    "N X N크기의 농장이 있다.\n",
    "\n",
    "이 농장에는 이상한 규칙이 있다.\n",
    "\n",
    "규칙은 다음과 같다.\n",
    "\n",
    "\n",
    "   ① 농장은 크기는 항상 홀수이다. (1 X 1, 3 X 3 … 49 X 49)\n",
    "\n",
    "   ② 수확은 항상 농장의 크기에 딱 맞는 정사각형 마름모 형태로만 가능하다.\n",
    "   \n",
    "   \n",
    "1 X 1크기의 농장에서 자라는 농작물을 수확하여 얻을 수 있는 수익은 3이다.\n",
    "\n",
    "3 X 3크기의 농장에서 자라는 농작물을 수확하여 얻을 수 있는 수익은 16 (3 + 2 + 5 + 4 + 2)이다.\n",
    "\n",
    "5 X 5크기의 농장에서 자라는 농작물의 수확하여 얻을 수 있는 수익은 25 (3 + 2 + 1 + 1 + 2 + 5 + 1 + 1 + 3 + 3 + 2 + 1)이다.\n",
    "\n",
    "농장의 크기 N와 농작물의 가치가 주어질 때, 규칙에 따라 얻을 수 있는 수익은 얼마인지 구하여라.\n",
    "\n",
    "\n",
    "## [제약 사항]\n",
    "\n",
    "농장의 크기 N은 1 이상 49 이하의 홀수이다. (1 ≤ N ≤ 49)\n",
    "\n",
    "농작물의 가치는 0~5이다.\n",
    "\n",
    "\n",
    "## [입력]\n",
    "\n",
    "가장 첫 줄에는 테스트 케이스의 개수 T가 주어지고, 그 아래로 각 테스트 케이스가 주어진다.\n",
    "\n",
    "각 테스트 케이스에는 농장의 크기 N과 농장 내 농작물의 가치가 주어진다.\n",
    "\n",
    "\n",
    "## [출력]\n",
    "\n",
    "각 줄은 '#t'로 시작하고, 공백으로 농장의 규칙에 따라 얻을 수 있는 수익을 출력한다.\n",
    "\n",
    "(t는 테스트b 케이스의 번호를 의미하며 1부터 시작한다.)"
   ]
  },
  {
   "cell_type": "markdown",
   "id": "87434067",
   "metadata": {},
   "source": [
    "<img src = '2805.png'>"
   ]
  },
  {
   "cell_type": "markdown",
   "id": "b77583ec",
   "metadata": {},
   "source": [
    "## Memo\n",
    "\n",
    "1x1\n",
    "\n",
    "\n",
    "3x3\n",
    "\n",
    "\n",
    "5x5\n",
    "N = 5\n",
    "\n",
    "idx \n",
    "0 1 2 3 4 \n",
    "\n",
    "1개\n",
    "3개\n",
    "5개\n",
    "3개\n",
    "\n",
    "1개\n",
    "N = 5\n",
    "\n",
    "\n",
    "0 + M\n",
    "\n",
    "\n",
    "중심  2\n",
    "\n",
    "M = 2\n",
    "\n",
    "i \n",
    "\n",
    "0      2       2 ~ 2 M ~ M\n",
    "1    1 2 3           M-i~M+i\n",
    "2  0 1 2 3 4         M-i~M+i\n",
    "\n",
    "3    1 2 3           i-M ~ i\n",
    "4      2             M~M\n",
    "\n",
    "\n",
    "4\n",
    " \n",
    "7\n",
    "4\n",
    "\n",
    "7, M 3\n"
   ]
  },
  {
   "cell_type": "code",
   "execution_count": 13,
   "id": "e9c57310",
   "metadata": {},
   "outputs": [
    {
     "name": "stdout",
     "output_type": "stream",
     "text": [
      "1\n",
      "5\n",
      "14054\n",
      "44250\n",
      "02032\n",
      "51204\n",
      "52212\n",
      "18\n",
      "0\n",
      "#1 18\n"
     ]
    }
   ],
   "source": [
    "T = int(input())\n",
    "\n",
    "for t in range(1,T+1):\n",
    "    \n",
    "    N = int(input()) # 농장의 크기\n",
    "    \n",
    "    M = N // 2\n",
    "    \n",
    "    arr = [ list(map(int,input())) for _ in range(N)]\n",
    "    \n",
    "    ans1 = 0\n",
    "    \n",
    "    # 0~M 까지 \n",
    "    for i in range(0,M+1):\n",
    "        \n",
    "        for j in range(M-i,M+i+1):\n",
    "            \n",
    "            ans1 += arr[i][j]\n",
    "            \n",
    "    \n",
    "    #print(ans1)\n",
    "    \n",
    "    # M+1 ~ N 까지\n",
    "    # 3,4 \n",
    "    \n",
    "    ans2 = 0\n",
    "\n",
    "    cnt = 1\n",
    "    \n",
    "    for i in range(M+1,N): \n",
    "        \n",
    "        for j in range(cnt,N-cnt):\n",
    "            \n",
    "            ans2 += arr[i][j]\n",
    "        \n",
    "        cnt += 1\n",
    "        \n",
    "    #print(ans2)\n",
    "            \n",
    "    print('#{0} {1}'.format(t,ans1+ans2))\n",
    "    "
   ]
  },
  {
   "cell_type": "code",
   "execution_count": 5,
   "id": "ef862f61",
   "metadata": {},
   "outputs": [
    {
     "data": {
      "text/plain": [
       "16"
      ]
     },
     "execution_count": 5,
     "metadata": {},
     "output_type": "execute_result"
    }
   ],
   "source": [
    "ans"
   ]
  },
  {
   "cell_type": "code",
   "execution_count": null,
   "id": "2bf8ea09",
   "metadata": {},
   "outputs": [],
   "source": []
  },
  {
   "cell_type": "code",
   "execution_count": null,
   "id": "a035e825",
   "metadata": {},
   "outputs": [],
   "source": []
  },
  {
   "cell_type": "code",
   "execution_count": 2,
   "id": "0a6ae4d9",
   "metadata": {},
   "outputs": [
    {
     "name": "stdout",
     "output_type": "stream",
     "text": [
      "1\n",
      "5\n",
      "14054\n",
      "44250\n",
      "02032\n",
      "51204\n",
      "52212\n"
     ]
    }
   ],
   "source": [
    "T = int(input())\n",
    "\n",
    "for t in range(1,T+1):\n",
    "    \n",
    "    N = int(input()) # 농장의 크기\n",
    "    \n",
    "    arr = [ list(map(int,input())) for _ in range(N)]\n",
    "    \n",
    "    ans = 0\n",
    "    \n",
    "    M = N // 2 # 2\n",
    "    \n",
    "    for i in range(0,M+1):\n",
    "        \n",
    "        for j in range(M-i, M+i+1):\n",
    "            \n",
    "            ans+=arr[i][j]\n",
    "    \n",
    "    # 1 2 3\n",
    "    #   2\n",
    "    \n",
    "    # 5 - 1 4 \n",
    "    for i range(M+1,N):\n",
    "        \n",
    "        for j in range(i-M, N-(i-M)):\n",
    "            \n",
    "            ans+=arr[i][j]\n",
    "        \n",
    "    print(f'{t} {ans}')\n",
    "            \n",
    "        \n",
    "    \n",
    "    \n",
    "    "
   ]
  },
  {
   "cell_type": "code",
   "execution_count": 15,
   "id": "d9979f0f",
   "metadata": {},
   "outputs": [
    {
     "name": "stdout",
     "output_type": "stream",
     "text": [
      "23\n"
     ]
    }
   ],
   "source": [
    "ans = 0\n",
    "    \n",
    "M = N // 2\n",
    "\n",
    "    \n",
    "for i in range(0,M+1):\n",
    "        \n",
    "    for j in range(M-i, M+i+1):\n",
    "            \n",
    "        ans+=arr[i][j]\n",
    "    \n",
    "for i in range(M+1,N):\n",
    "        \n",
    "    for j in range(i-M, N-(i-M)):\n",
    "            \n",
    "        ans+=arr[i][j]\n",
    "        \n",
    "print(ans)"
   ]
  },
  {
   "cell_type": "markdown",
   "id": "9d130cab",
   "metadata": {},
   "source": [
    "---"
   ]
  },
  {
   "cell_type": "code",
   "execution_count": 18,
   "id": "1166a50f",
   "metadata": {},
   "outputs": [],
   "source": [
    "ans = 0\n"
   ]
  },
  {
   "cell_type": "code",
   "execution_count": 19,
   "id": "38967779",
   "metadata": {},
   "outputs": [],
   "source": [
    "s = M\n",
    "e = M\n",
    "\n",
    "\n",
    "for i in range(N):\n",
    "    for j in range(s, e+1):\n",
    "        ans += arr[i][j]\n",
    "    \n",
    "    if i<M:\n",
    "        s -= 1\n",
    "        e += 1\n",
    "    else:\n",
    "        s += 1\n",
    "        e -= 1\n",
    " "
   ]
  },
  {
   "cell_type": "code",
   "execution_count": 20,
   "id": "bbcbfa61",
   "metadata": {},
   "outputs": [
    {
     "data": {
      "text/plain": [
       "23"
      ]
     },
     "execution_count": 20,
     "metadata": {},
     "output_type": "execute_result"
    }
   ],
   "source": [
    "ans"
   ]
  }
 ],
 "metadata": {
  "kernelspec": {
   "display_name": "Python 3 (ipykernel)",
   "language": "python",
   "name": "python3"
  },
  "language_info": {
   "codemirror_mode": {
    "name": "ipython",
    "version": 3
   },
   "file_extension": ".py",
   "mimetype": "text/x-python",
   "name": "python",
   "nbconvert_exporter": "python",
   "pygments_lexer": "ipython3",
   "version": "3.10.9"
  },
  "toc": {
   "base_numbering": 1,
   "nav_menu": {},
   "number_sections": true,
   "sideBar": true,
   "skip_h1_title": false,
   "title_cell": "Table of Contents",
   "title_sidebar": "Contents",
   "toc_cell": false,
   "toc_position": {},
   "toc_section_display": true,
   "toc_window_display": false
  },
  "varInspector": {
   "cols": {
    "lenName": 16,
    "lenType": 16,
    "lenVar": 40
   },
   "kernels_config": {
    "python": {
     "delete_cmd_postfix": "",
     "delete_cmd_prefix": "del ",
     "library": "var_list.py",
     "varRefreshCmd": "print(var_dic_list())"
    },
    "r": {
     "delete_cmd_postfix": ") ",
     "delete_cmd_prefix": "rm(",
     "library": "var_list.r",
     "varRefreshCmd": "cat(var_dic_list()) "
    }
   },
   "types_to_exclude": [
    "module",
    "function",
    "builtin_function_or_method",
    "instance",
    "_Feature"
   ],
   "window_display": false
  }
 },
 "nbformat": 4,
 "nbformat_minor": 5
}

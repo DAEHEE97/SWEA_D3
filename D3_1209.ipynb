{
 "cells": [
  {
   "cell_type": "markdown",
   "id": "2463bd40",
   "metadata": {},
   "source": [
    "# D3_1209\n",
    "\n",
    "다음 100X100의 2차원 배열이 주어질 때, 각 행의 합, 각 열의 합, 각 대각선의 합 중 최댓값을 구하는 프로그램을 작성하여라.\n",
    "\n",
    "다음과 같은 5X5 배열에서 최댓값은 29이다.\n",
    "\n",
    "## [제약 사항]\n",
    "\n",
    "총 10개의 테스트 케이스가 주어진다.\n",
    "\n",
    "배열의 크기는 100X100으로 동일하다.\n",
    "\n",
    "각 행의 합은 integer 범위를 넘어가지 않는다.\n",
    "\n",
    "동일한 최댓값이 있을 경우, 하나의 값만 출력한다.\n",
    " \n",
    "## [입력]\n",
    "\n",
    "각 테스트 케이스의 첫 줄에는 테스트 케이스 번호가 주어지고 그 다음 줄부터는 2차원 배열의 각 행 값이 주어진다.\n",
    "\n",
    "## [출력]\n",
    "\n",
    "#부호와 함께 테스트 케이스의 번호를 출력하고, 공백 문자 후 테스트 케이스의 답을 출력한다."
   ]
  },
  {
   "cell_type": "markdown",
   "id": "82d432c6",
   "metadata": {},
   "source": [
    "---"
   ]
  },
  {
   "cell_type": "markdown",
   "id": "e465e3e3",
   "metadata": {},
   "source": [
    "## memo\n",
    "\n",
    "00\n",
    "  11 \n",
    "    22\n",
    "    \n",
    "- i와 j의 값의 관계i와 j의 값의 관계` \n",
    "\n",
    "```\n",
    "i = 0 j = 0 \n",
    "j = 1 j = 1\n",
    "j = 2 j = 2\n",
    "\n",
    "\n",
    "i = 0, j = 99\n",
    "i = 1, j = 98\n",
    "i = 2, j = 97\n",
    "```\n"
   ]
  },
  {
   "cell_type": "markdown",
   "id": "cea31288",
   "metadata": {},
   "source": [
    "---"
   ]
  },
  {
   "cell_type": "code",
   "execution_count": null,
   "id": "18d4febc",
   "metadata": {},
   "outputs": [],
   "source": [
    "T = 10\n",
    "\n",
    "for t in range(1,T+1):\n",
    "    \n",
    "    _ = int(input())\n",
    "    \n",
    "    arr = [ list(map(int,input().split())) for _ in range(100) ] \n",
    "    \n",
    "    sum_lst = []\n",
    "    \n",
    "    \n",
    "    s3 = 0\n",
    "    s4 = 0\n",
    "    \n",
    "    for i in range(100):\n",
    "        \n",
    "        s3 += arr[i][i]\n",
    "        s4 += arr[i][99-i]\n",
    "        \n",
    "        s1 = 0\n",
    "        s2 = 0\n",
    "        \n",
    "        for j in range(100):\n",
    "            \n",
    "            s1 += arr[i][j]\n",
    "            s2 += arr[j][i]\n",
    "        \n",
    "        sum_lst.append(s1)\n",
    "        sum_lst.append(s2)\n",
    "    \n",
    "    sum_lst.append(s3)\n",
    "    sum_lst.append(s4)\n",
    "\n",
    "    print('#{0} {1}'.format(t,max(sum_lst)))\n",
    "        "
   ]
  },
  {
   "cell_type": "markdown",
   "id": "5a8e858f",
   "metadata": {},
   "source": [
    "---"
   ]
  },
  {
   "cell_type": "code",
   "execution_count": null,
   "id": "9df5b1c7",
   "metadata": {},
   "outputs": [],
   "source": [
    "T = 10\n",
    "\n",
    "for t in range(1,T+1):\n",
    "    \n",
    "    _ = int(input())\n",
    "    \n",
    "    arr = [ list(map(int,input().split())) for _ in range(100) ] \n",
    "    \n",
    "    sum_lst = []\n",
    "    \n",
    "    M = 0\n",
    "    \n",
    "    s3 = 0\n",
    "    s4 = 0\n",
    "    \n",
    "    for i in range(100):\n",
    "        \n",
    "        s3 += arr[i][i]\n",
    "        s4 += arr[i][99-i]\n",
    "        \n",
    "        s1 = 0\n",
    "        s2 = 0\n",
    "        \n",
    "        for j in range(100):\n",
    "            \n",
    "            s1 += arr[i][j]\n",
    "            s2 += arr[j][i]\n",
    "        \n",
    "        M = max(s1,s2,M)\n",
    "    \n",
    "    M = max(s3,s4,M)\n",
    "    \n",
    "    print('#{0} {1}'.format(t,M))\n",
    "        "
   ]
  },
  {
   "cell_type": "markdown",
   "id": "9d994bd5",
   "metadata": {},
   "source": [
    "---"
   ]
  },
  {
   "cell_type": "code",
   "execution_count": 1,
   "id": "6601591d",
   "metadata": {},
   "outputs": [
    {
     "name": "stdout",
     "output_type": "stream",
     "text": [
      "1\n",
      "1 2 3\n",
      "4 5 6\n",
      "7 8 9\n",
      "#1 24\n"
     ]
    }
   ],
   "source": [
    "T = 10\n",
    "\n",
    "for t in range(1,T+1):\n",
    "    \n",
    "    _ = int(input())\n",
    "    \n",
    "    arr = [ list(map(int,input().split())) for _ in range(100) ] \n",
    "    \n",
    "    ans = []\n",
    "    \n",
    "    \n",
    "    s3 = 0\n",
    "    s4 = 0\n",
    "    \n",
    "    for i in range(len(arr)):\n",
    "        \n",
    "        s3 += arr[i][i]\n",
    "        s4 += arr[i][len(arr) -1 -i]\n",
    "        \n",
    "        s1 = 0\n",
    "        s2 = 0\n",
    "        \n",
    "        for j in range(len(arr)):\n",
    "            \n",
    "            s1 += arr[i][j]\n",
    "            s2 += arr[j][i]\n",
    "            \n",
    "        ans.append(s1)\n",
    "        ans.append(s2)\n",
    "    \n",
    "    ans.append(s3)\n",
    "    ans.append(s4)\n",
    "    \n",
    "    print('#{0} {1}'.format(t,max(ans)))\n",
    "        \n",
    "    "
   ]
  },
  {
   "cell_type": "code",
   "execution_count": 2,
   "id": "1b432774",
   "metadata": {},
   "outputs": [
    {
     "name": "stdout",
     "output_type": "stream",
     "text": [
      "1\n",
      "2\n",
      "3\n",
      "4\n",
      "5\n",
      "6\n",
      "7\n",
      "8\n",
      "9\n"
     ]
    }
   ],
   "source": [
    "for i in range(len(arr)):\n",
    "    \n",
    "    for j in range(len(arr)):\n",
    "        \n",
    "        print(arr[i][j])\n",
    "        \n",
    "        "
   ]
  },
  {
   "cell_type": "code",
   "execution_count": 3,
   "id": "6e2da7aa",
   "metadata": {},
   "outputs": [
    {
     "name": "stdout",
     "output_type": "stream",
     "text": [
      "1\n",
      "4\n",
      "7\n",
      "2\n",
      "5\n",
      "8\n",
      "3\n",
      "6\n",
      "9\n"
     ]
    }
   ],
   "source": [
    "for i in range(len(arr)):\n",
    "    \n",
    "    for j in range(len(arr)):\n",
    "        \n",
    "        print(arr[j][i])\n",
    "        "
   ]
  },
  {
   "cell_type": "code",
   "execution_count": 4,
   "id": "44567a70",
   "metadata": {},
   "outputs": [
    {
     "name": "stdout",
     "output_type": "stream",
     "text": [
      "1\n",
      "5\n",
      "9\n"
     ]
    }
   ],
   "source": [
    "for i in range(len(arr)):\n",
    "    print(arr[i][i])"
   ]
  },
  {
   "cell_type": "code",
   "execution_count": 5,
   "id": "d0ea87a6",
   "metadata": {},
   "outputs": [
    {
     "name": "stdout",
     "output_type": "stream",
     "text": [
      "3\n",
      "5\n",
      "7\n"
     ]
    }
   ],
   "source": [
    "for i in range(len(arr)):\n",
    "    print(arr[i][(len(arr)-1-i)])"
   ]
  },
  {
   "cell_type": "markdown",
   "id": "741ed57a",
   "metadata": {},
   "source": [
    "---"
   ]
  },
  {
   "cell_type": "code",
   "execution_count": null,
   "id": "3d45c1dd",
   "metadata": {},
   "outputs": [],
   "source": [
    "T = 10\n",
    "\n",
    "for t in range(1,T+1):\n",
    "    \n",
    "    _ = int(input())\n",
    "    \n",
    "    arr = [ list(map(int,input().split())) for _ in range(100) ] \n",
    "    \n",
    "    ans = 0\n",
    "    s3 = 0\n",
    "    s4 = 0\n",
    "    \n",
    "    for i in range(len(arr)):\n",
    "        \n",
    "        s3 += arr[i][i]\n",
    "        s4 += arr[i][len(arr) -1 -i]\n",
    "        \n",
    "        s1 = 0\n",
    "        s2 = 0\n",
    "        \n",
    "        for j in range(len(arr)):\n",
    "            \n",
    "            s1 += arr[i][j]\n",
    "            s2 += arr[j][i]\n",
    "        \n",
    "        ans = max(s1,s2,ans)\n",
    "  \n",
    "    ans = max(s3,s4,ans)\n",
    "    \n",
    "    print('#{0} {1}'.format(t,ans))"
   ]
  },
  {
   "cell_type": "markdown",
   "id": "84afef05",
   "metadata": {},
   "source": [
    "---"
   ]
  }
 ],
 "metadata": {
  "kernelspec": {
   "display_name": "Python 3 (ipykernel)",
   "language": "python",
   "name": "python3"
  },
  "language_info": {
   "codemirror_mode": {
    "name": "ipython",
    "version": 3
   },
   "file_extension": ".py",
   "mimetype": "text/x-python",
   "name": "python",
   "nbconvert_exporter": "python",
   "pygments_lexer": "ipython3",
   "version": "3.8.16"
  },
  "toc": {
   "base_numbering": 1,
   "nav_menu": {},
   "number_sections": true,
   "sideBar": true,
   "skip_h1_title": false,
   "title_cell": "Table of Contents",
   "title_sidebar": "Contents",
   "toc_cell": false,
   "toc_position": {},
   "toc_section_display": true,
   "toc_window_display": false
  },
  "varInspector": {
   "cols": {
    "lenName": 16,
    "lenType": 16,
    "lenVar": 40
   },
   "kernels_config": {
    "python": {
     "delete_cmd_postfix": "",
     "delete_cmd_prefix": "del ",
     "library": "var_list.py",
     "varRefreshCmd": "print(var_dic_list())"
    },
    "r": {
     "delete_cmd_postfix": ") ",
     "delete_cmd_prefix": "rm(",
     "library": "var_list.r",
     "varRefreshCmd": "cat(var_dic_list()) "
    }
   },
   "types_to_exclude": [
    "module",
    "function",
    "builtin_function_or_method",
    "instance",
    "_Feature"
   ],
   "window_display": false
  }
 },
 "nbformat": 4,
 "nbformat_minor": 5
}

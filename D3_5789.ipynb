{
 "cells": [
  {
   "cell_type": "markdown",
   "id": "a89128a7",
   "metadata": {},
   "source": [
    "# D3_5789"
   ]
  },
  {
   "cell_type": "markdown",
   "id": "24db2d10",
   "metadata": {},
   "source": [
    "현주는 1번부터 N번까지 N개의 상자를 가지고 있다. \n",
    "\n",
    "각 상자에는 숫자를 새길 수 있는데 처음에는 모두 0으로 적혀있다.\n",
    "\n",
    "숫자가 너무 단조로웠던 현주는 다음 Q회 동안 일정 범위의 연속한 상자를 동일한 숫자로 변경하려고 한다. \n",
    "\n",
    "변경하는 방법은 다음과 같다.\n",
    "\n",
    "- i (1 ≤ i ≤ Q)번째 작업에 대해 L번 상자부터 R번 상자까지의 값을 i로 변경\n",
    "\n",
    "\n",
    "현주가 Q회 동안 위의 작업을 순서대로 한 다음 N개의 상자에 적혀있는 값들을 순서대로 출력하는 프로그램을 작성하라.\n",
    "\n",
    "\n",
    "\n",
    "## [입력]\n",
    "\n",
    "첫 번째 줄에 테스트 케이스의 수 T 가 주어진다.\n",
    "\n",
    "각 테스트 케이스의 첫 번째 줄에는 두 정수 N, Q (1 ≤ N, Q ≤ 103)가 공백으로 구분되어 주어진다.\n",
    "\n",
    "다음 Q개의 줄의 i번째 줄에는 Li, Ri (1 ≤ Li ≤ Ri ≤ N)이 주어진다.\n",
    "\n",
    " \n",
    "\n",
    "## [출력]\n",
    "\n",
    "각 테스트 케이스마다 첫 번째 줄에는 ‘#x’(x는 테스트케이스 번호를 의미하며 1부터 시작한다)를 출력하고,\n",
    "\n",
    "각 테스트 케이스마다 Q개의 작업을 수행한 다음 1번부터 N번까지의 상자에 적혀있는 값들을 순서대로 출력한다."
   ]
  },
  {
   "cell_type": "markdown",
   "id": "27287b24",
   "metadata": {},
   "source": [
    "---"
   ]
  },
  {
   "cell_type": "markdown",
   "id": "29b898a4",
   "metadata": {},
   "source": [
    "<img src = \"5789.png\" width = 500 height = 500 >"
   ]
  },
  {
   "cell_type": "markdown",
   "id": "fc9262a9",
   "metadata": {},
   "source": [
    "---"
   ]
  },
  {
   "cell_type": "markdown",
   "id": "e22fab6f",
   "metadata": {},
   "source": [
    "## Memo\n",
    "\n",
    "\n",
    "i번째 작업 에 대해 값을 i 로 변경\n",
    "- 작업 순서 ~ 값, 작업 순서도 0부터 x\n",
    "- i in range(1,N+1) , ( i == 1번쨰 작업 ), range(N) 으로 할 시, i -0\n",
    "    \n",
    "---\n",
    "\n",
    "- 빈 리스트 요소 +1 추가해서, List idx랑 몇번째인지 맞춰 주기 \n",
    "    - N = 5, lst[0] 첫번째, lst[4] 다섯번째\n",
    "    - N = 5, lst[1] 첫번째, lst[5] 다섯번째\n",
    "\n",
    "\n",
    "--- \n",
    "\n",
    "- `print(*lst[1:])`\n",
    "\n",
    "\n",
    "- `pop(0), print(*lst)`\n",
    "\n"
   ]
  },
  {
   "cell_type": "markdown",
   "id": "4ea3e8ff",
   "metadata": {},
   "source": [
    "---"
   ]
  },
  {
   "cell_type": "code",
   "execution_count": 1,
   "id": "a4ebd1ef",
   "metadata": {},
   "outputs": [
    {
     "name": "stdout",
     "output_type": "stream",
     "text": [
      "1\n",
      "5 2\n",
      "1 3\n",
      "2 4\n",
      "#1 1 2 2 2 0\n"
     ]
    }
   ],
   "source": [
    "T = int(input())\n",
    "\n",
    "for t in range(1,T+1):\n",
    "    \n",
    "    # 1번 부터 N번까지, N개의 상자\n",
    "    # N = 5, 5개, idx = 0,1,2,3,4\n",
    "\n",
    "    N,Q = map(int,input().split())\n",
    "    \n",
    "    lst = [0]*(N+1)\n",
    "\n",
    "    # i번째 작업 에 대해 값을 i 로 변경\n",
    "    # 작업 순서 ~ 값, 작업 순서도 0부터 x\n",
    "    # 1번쨰 작업 \n",
    "    for i in range(1,Q+1):\n",
    "        L,R = map(int,input().split())\n",
    "        \n",
    "        for j in range(L,R+1):\n",
    "            lst[j] = i\n",
    "    \n",
    "    print('#{0}'.format(t),*lst[1:])"
   ]
  },
  {
   "cell_type": "markdown",
   "id": "dc77f899",
   "metadata": {},
   "source": [
    "---"
   ]
  },
  {
   "cell_type": "code",
   "execution_count": 2,
   "id": "194eb464",
   "metadata": {},
   "outputs": [
    {
     "name": "stdout",
     "output_type": "stream",
     "text": [
      "1\n",
      "5 2\n",
      "1 3\n",
      "2 4\n",
      "#1 1 2 2 2 0\n",
      "\n",
      "#1 1 2 2 2 0\n"
     ]
    }
   ],
   "source": [
    "T = int(input())\n",
    "\n",
    "for t in range(1,T+1):\n",
    "    \n",
    "    N,Q = map(int,input().split())\n",
    "    \n",
    "    lst = [0] * (N+1)\n",
    "    \n",
    "    for i in range(1,Q+1):\n",
    "        L,R = map(int,input().split())\n",
    "        \n",
    "        for j in range(L,R+1): \n",
    "            lst[j] = i\n",
    "    \n",
    "    print('#{0}'.format(t),*lst[1:])\n",
    "    \n",
    "    print()\n",
    "    lst.pop(0)\n",
    "    \n",
    "    print('#{0}'.format(t),*lst)\n",
    "        \n",
    "        "
   ]
  }
 ],
 "metadata": {
  "kernelspec": {
   "display_name": "Python 3 (ipykernel)",
   "language": "python",
   "name": "python3"
  },
  "language_info": {
   "codemirror_mode": {
    "name": "ipython",
    "version": 3
   },
   "file_extension": ".py",
   "mimetype": "text/x-python",
   "name": "python",
   "nbconvert_exporter": "python",
   "pygments_lexer": "ipython3",
   "version": "3.11.2"
  }
 },
 "nbformat": 4,
 "nbformat_minor": 5
}

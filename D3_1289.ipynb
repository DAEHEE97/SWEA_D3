{
 "cells": [
  {
   "cell_type": "markdown",
   "metadata": {},
   "source": [
    "# 1289. 원재의 메모리 복구하기"
   ]
  },
  {
   "cell_type": "markdown",
   "metadata": {},
   "source": [
    "---"
   ]
  },
  {
   "cell_type": "markdown",
   "metadata": {},
   "source": [
    "\n",
    "원재가 컴퓨터를 만지다가 실수를 저지르고 말았다. \n",
    "\n",
    "메모리가 초기화된 것이다.\n",
    "\n",
    "다행히 원래 메모리가 무슨 값이었는지 알고 있었던 원재는 바로 원래 값으로 되돌리려고 했으나 메모리 값을 바꿀 때 또 문제가 생겼다.\n",
    "\n",
    "- 메모리 bit중 하나를 골라 0인지 1인지 결정하면 **해당 값이 메모리의 끝까지 덮어씌우는 것**이다.\n",
    "\n",
    "    - 예를 들어 지금 메모리 값이 0100이고, 3번째 bit를 골라 1로 설정하면 0111이 된다.\n",
    "\n",
    "\n",
    "\n",
    "- 원래 상태가 주어질 때 초기화 상태 (모든 bit가 0) 에서 원래 상태로 돌아가는데 \n",
    "\n",
    "\n",
    "- 최소 몇 번이나 고쳐야 하는지 계산해보자.\n",
    "\n",
    "\n",
    "## [입력]\n",
    "\n",
    "첫 번째 줄에 테스트 케이스의 수 T가 주어진다.\n",
    "\n",
    "각 테스트 케이스는 한 줄로 이루어져 있으며, 메모리의 원래 값이 주어진다.\n",
    "\n",
    "메모리의 길이는 1이상 50이하이다.\n",
    "\n",
    "\n",
    "## [출력]\n",
    "\n",
    "각 테스트 케이스마다 ‘#x’(x는 테스트케이스 번호를 의미하며 1부터 시작한다)를 출력하고,\n",
    "\n",
    "초기값(모든bit가 0)에서 원래 값으로 복구하기 위한 최소 수정 횟수를 출력한다.\n"
   ]
  },
  {
   "cell_type": "markdown",
   "metadata": {},
   "source": [
    "----"
   ]
  },
  {
   "cell_type": "markdown",
   "metadata": {},
   "source": [
    "## Memo\n",
    "\n",
    "- 비트 문제 슬라이싱으로 변경하면서 처리,\n",
    "\n",
    "- status 로 변경 하면서 처리,\n",
    "\n",
    "- 리스트, 문자열 서로 변경\n"
   ]
  },
  {
   "cell_type": "markdown",
   "metadata": {},
   "source": [
    "----"
   ]
  },
  {
   "cell_type": "markdown",
   "metadata": {},
   "source": [
    "\n",
    "- bit 값이 1이면, lst 값 부터 뒤 값들을 모두 1로 바뀜\n",
    "- bit 값이 0이면, lst 값 부터 뒤 값들을 모두 0로 바뀜\n",
    "    - 즉, 이게 bit 값 으로 변경 된다고 도 해도됨. 굳이, 0 1 로 분기해서 할 필요 없음\n",
    "    \n",
    "\n",
    "- lst 슬라이드 할당 은 [ ] * 길이 처리 \n",
    "```.py\n",
    "lst[i:] = [int(bit[i])] * (len(lst)-i)\n",
    "```"
   ]
  },
  {
   "cell_type": "markdown",
   "metadata": {},
   "source": [
    "---"
   ]
  },
  {
   "cell_type": "code",
   "execution_count": 1,
   "metadata": {},
   "outputs": [
    {
     "name": "stdout",
     "output_type": "stream",
     "text": [
      "2\n",
      "0011\n",
      "#1 1\n",
      "100\n",
      "#2 2\n"
     ]
    }
   ],
   "source": [
    "T = int(input())\n",
    "\n",
    "for t in range(1,T+1):\n",
    "    \n",
    "    bit = list(input())\n",
    "    \n",
    "    lst = [0] * len(bit)\n",
    "\n",
    "    cnt = 0\n",
    "    \n",
    "    for i in range(len(bit)):\n",
    "        if (int(bit[i]) == lst[i]):\n",
    "            continue\n",
    "            \n",
    "        elif (int(bit[i]) != lst[i]):\n",
    "            lst[i:] = [int(bit[i])] * (len(lst)-i)\n",
    "            cnt+=1                \n",
    "    \n",
    "    print('#{0} {1}'.format(t,cnt))\n"
   ]
  },
  {
   "cell_type": "markdown",
   "metadata": {},
   "source": [
    "---"
   ]
  },
  {
   "cell_type": "code",
   "execution_count": 2,
   "metadata": {},
   "outputs": [
    {
     "name": "stdout",
     "output_type": "stream",
     "text": [
      "2\n",
      "0011\n",
      "#1 1\n",
      "100\n",
      "#2 2\n"
     ]
    }
   ],
   "source": [
    "# 뒤에 모든 비트를 변경 # 비트 입력시 int 0조심 'int' object is not iterable\n",
    "# 결국에 주어진 비트\n",
    "# 0000 에서 시작해서, 주이전 비트로 바뀌는데 몇번걸리냐\n",
    "\n",
    "\n",
    "T = int(input())\n",
    "\n",
    "for t in range(1,T+1):\n",
    "    \n",
    "    bit = list(input())\n",
    "    lst = [0] * len(bit)\n",
    "    cnt = 0\n",
    "    \n",
    "    for i in range(len(bit)):\n",
    "        \n",
    "        \n",
    "        if (int(bit[i]) != lst[i]):\n",
    "            \n",
    "            cnt+=1\n",
    "            \n",
    "            if (int(bit[i]) == 1):\n",
    "                lst[i:] = [1]*(len(bit)-i)\n",
    "            else:\n",
    "                lst[i:] = [0]*(len(bit)-i)\n",
    "                \n",
    "    \n",
    "    print('#{0} {1}'.format(t,cnt))\n",
    "\n",
    "                "
   ]
  },
  {
   "cell_type": "markdown",
   "metadata": {},
   "source": [
    "---"
   ]
  },
  {
   "cell_type": "code",
   "execution_count": null,
   "metadata": {},
   "outputs": [],
   "source": [
    "# 뒤에 모든 비트를 변경\n",
    "\n",
    "T = int(input())\n",
    "\n",
    "for t in range(1,T+1):\n",
    "    \n",
    "    string = input()\n",
    "    \n",
    "    lst = [0] * len(string)\n",
    "    \n",
    "    cnt = 0\n",
    "    \n",
    "    for i in range(len(string)):\n",
    "        \n",
    "        if lst[i] == int(string[i]):\n",
    "            continue\n",
    "            \n",
    "        else:\n",
    "            lst[i:] = [int(string[i])]*(len(lst)-i) # 비트 변경 \n",
    "            cnt+=1\n",
    "            \n",
    "    print('#{0} {1}'.format(t,cnt))\n",
    "            \n",
    "        \n",
    "    "
   ]
  },
  {
   "cell_type": "markdown",
   "metadata": {},
   "source": [
    "----"
   ]
  },
  {
   "cell_type": "code",
   "execution_count": 3,
   "metadata": {},
   "outputs": [
    {
     "name": "stdout",
     "output_type": "stream",
     "text": [
      "2\n",
      "0011\n",
      "#1 1\n",
      "100\n",
      "#2 2\n"
     ]
    }
   ],
   "source": [
    "# 뒤에 비트 모두 변경 하는것을 status 변수로 처리\n",
    "# 0 부터 시작, 뒤에 비트를 모두 변경 한다는것은 다음 비트 status가 1로 변경하는것과 같음\n",
    "\n",
    "T = int(input())\n",
    "\n",
    "for t in range(1,T+1):\n",
    "    \n",
    "    cnt = 0\n",
    "    \n",
    "    status = 0\n",
    "    \n",
    "    string = input()\n",
    "    \n",
    "    for i in string:\n",
    "        \n",
    "        if status == 0 and int(i) != status:\n",
    "            cnt += 1\n",
    "            status = 1\n",
    "        \n",
    "        elif status == 1 and int(i) != status:\n",
    "            cnt += 1\n",
    "            status = 0\n",
    "            \n",
    "            \n",
    "    print('#{0} {1}'.format(t, cnt))\n"
   ]
  },
  {
   "cell_type": "markdown",
   "metadata": {},
   "source": [
    "----"
   ]
  }
 ],
 "metadata": {
  "hide_input": false,
  "kernelspec": {
   "display_name": "Python 3 (ipykernel)",
   "language": "python",
   "name": "python3"
  },
  "language_info": {
   "codemirror_mode": {
    "name": "ipython",
    "version": 3
   },
   "file_extension": ".py",
   "mimetype": "text/x-python",
   "name": "python",
   "nbconvert_exporter": "python",
   "pygments_lexer": "ipython3",
   "version": "3.11.2"
  },
  "toc": {
   "base_numbering": 1,
   "nav_menu": {},
   "number_sections": true,
   "sideBar": true,
   "skip_h1_title": false,
   "title_cell": "Table of Contents",
   "title_sidebar": "Contents",
   "toc_cell": false,
   "toc_position": {},
   "toc_section_display": true,
   "toc_window_display": false
  }
 },
 "nbformat": 4,
 "nbformat_minor": 4
}

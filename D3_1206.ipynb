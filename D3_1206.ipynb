{
 "cells": [
  {
   "cell_type": "markdown",
   "id": "be87b4b5",
   "metadata": {},
   "source": [
    "# 1206. [S/W 문제해결 기본] 1일차 - View\n",
    "\n",
    "-[1206](https://swexpertacademy.com/main/searchAll/search.do?keyword=1206)"
   ]
  },
  {
   "cell_type": "markdown",
   "id": "2103d26c",
   "metadata": {},
   "source": [
    "---"
   ]
  },
  {
   "cell_type": "markdown",
   "id": "3a881ae3",
   "metadata": {},
   "source": [
    "\n",
    "강변에 빌딩들이 옆으로 빽빽하게 밀집한 지역이 있다.\n",
    "\n",
    "이곳에서는 빌딩들이 너무 좌우로 밀집하여, 강에 대한 조망은 모든 세대에서 좋지만 왼쪽 또는 오른쪽 창문을 열었을 때 바로 앞에 옆 건물이 보이는 경우가 허다하였다.\n",
    "\n",
    "그래서 이 지역에서는 왼쪽과 오른쪽으로 창문을 열었을 때, 양쪽 모두 거리 2 이상의 공간이 확보될 때 조망권이 확보된다고 말한다.\n",
    "\n",
    "빌딩들에 대한 정보가 주어질 때, 조망권이 확보된 세대의 수를 반환하는 프로그램을 작성하시오.\n",
    " \n",
    "아래와 같이 강변에 8채의 빌딩이 있을 때, 연두색으로 색칠된 여섯 세대에서는 좌우로 2칸 이상의 공백이 존재하므로 조망권이 확보된다. 따라서 답은 6이 된다.\n",
    "\n",
    "\n",
    "\n",
    "A와 B로 표시된 세대의 경우는 왼쪽 조망은 2칸 이상 확보가 되었지만 오른쪽 조망은 한 칸 밖에 확보가 되지 않으므로 조망권을 확보하지 못하였다.\n",
    "\n",
    "C의 경우는 반대로 오른쪽 조망은 2칸이 확보가 되었지만 왼쪽 조망이 한 칸 밖에 확보되지 않았다.\n",
    " \n",
    "## [제약 사항]\n",
    "\n",
    "가로 길이는 항상 1000이하로 주어진다.\n",
    "\n",
    "맨 왼쪽 두 칸과 맨 오른쪽 두 칸에는 건물이 지어지지 않는다. (예시에서 빨간색 땅 부분)\n",
    "\n",
    "각 빌딩의 높이는 최대 255이다.\n",
    " \n",
    "## [입력]\n",
    "\n",
    "총 10개의 테스트케이스가 주어진다.\n",
    "\n",
    "각 테스트케이스의 첫 번째 줄에는 건물의 개수 N이 주어진다. (4 ≤ N ≤ 1000)\n",
    "\n",
    "그 다음 줄에는 N개의 건물의 높이가 주어진다. (0 ≤ 각 건물의 높이 ≤ 255)\n",
    "\n",
    "맨 왼쪽 두 칸과 맨 오른쪽 두 칸에 있는 건물은 항상 높이가 0이다. (예시에서 빨간색 땅 부분)\n",
    " \n",
    "## [출력]\n",
    "\n",
    "#부호와 함께 테스트케이스의 번호를 출력하고, 공백 문자 후 조망권이 확보된 세대의 수를 출력한다.\n",
    "\n"
   ]
  },
  {
   "cell_type": "markdown",
   "id": "8d21533d",
   "metadata": {},
   "source": [
    "---"
   ]
  },
  {
   "cell_type": "markdown",
   "id": "1ad341f8",
   "metadata": {},
   "source": [
    "## Memo\n",
    "\n",
    "- 현재 높이에서 - 하면서 좌 우 크기 비교후, 하나씩 cnt\n",
    "\n",
    "- 현재 높이에서 좌 우 max 값을 - 해서 한번에 cnt\n",
    "\n",
    "\n",
    "---\n",
    "- N = 14, 14개, range(14) range(0,14), 0포함 14 노포함 14-0 14개\n",
    "\n",
    "- idx 0 ~ 13까지 14개\n",
    "\n",
    "- range(2,14-2) 2포함, 14-2 노포함, 14 - 2 - 2 / 총 10개 \n",
    "\n"
   ]
  },
  {
   "cell_type": "markdown",
   "id": "703ada61",
   "metadata": {},
   "source": [
    "---"
   ]
  },
  {
   "cell_type": "code",
   "execution_count": 1,
   "id": "410588c5",
   "metadata": {},
   "outputs": [
    {
     "name": "stdout",
     "output_type": "stream",
     "text": [
      "100\n",
      "0 0 225 214 82 73 241 233 179 219 135 62 36 13 6 71 179 77 67 139 31 90 9 37 93 203 150 69 19 137 28 174 32 80 64 54 18 0 158 73 173 20 0 102 107 48 50 161 246 145 225 31 0 153 185 157 44 126 153 233 0 201 83 103 191 0 45 0 131 87 97 105 97 209 157 22 0 29 132 74 2 232 44 203 0 51 0 244 212 212 89 53 50 244 207 144 72 143 0 0 \n",
      "#1 691\n"
     ]
    }
   ],
   "source": [
    "T = 1\n",
    "\n",
    "for t in range(1,T+1):\n",
    "    \n",
    "    # 건물의 개수\n",
    "    N = int(input())\n",
    "    \n",
    "    lst = list(map(int,input().split()))\n",
    "    \n",
    "    cnt = 0\n",
    "    \n",
    "    for i in range(2,N-2):\n",
    "        \n",
    "        h = lst[i] # i번째 건물의 최고 층 \n",
    "\n",
    "        while(1):\n",
    "            if h > lst[i-1] and h > lst[i-2] and h > lst[i+1] and h > lst[i+2]:\n",
    "                cnt+=1\n",
    "                h-=1\n",
    "            else:\n",
    "                break\n",
    "                \n",
    "    print('#{0} {1}'.format(t,cnt))"
   ]
  },
  {
   "cell_type": "markdown",
   "id": "8773c347",
   "metadata": {},
   "source": [
    "---"
   ]
  },
  {
   "cell_type": "code",
   "execution_count": 2,
   "id": "20ccce23",
   "metadata": {},
   "outputs": [
    {
     "name": "stdout",
     "output_type": "stream",
     "text": [
      "100\n",
      "0 0 225 214 82 73 241 233 179 219 135 62 36 13 6 71 179 77 67 139 31 90 9 37 93 203 150 69 19 137 28 174 32 80 64 54 18 0 158 73 173 20 0 102 107 48 50 161 246 145 225 31 0 153 185 157 44 126 153 233 0 201 83 103 191 0 45 0 131 87 97 105 97 209 157 22 0 29 132 74 2 232 44 203 0 51 0 244 212 212 89 53 50 244 207 144 72 143 0 0 \n",
      "#1 691\n"
     ]
    }
   ],
   "source": [
    "# 좌 우 4 개중에 최대 값이 현재 층보다 낮으면 조망 o\n",
    "# 그 최대 값의 역할이 마지노선 이므로, 현재 층에서 - 시 카운트 \n",
    "# Ex h = 8 층, 좌우 max 5층,\n",
    "# 8층, 7층, 6층, 조망 o \n",
    "\n",
    "T = 1\n",
    "\n",
    "for t in range(1, T+1):\n",
    "    \n",
    "    N = int(input())\n",
    "    \n",
    "    lst = list(map(int, input().split()))\n",
    "    \n",
    "    cnt = 0\n",
    "    \n",
    "    for i in range(2, N-2):\n",
    "        \n",
    "        h = lst[i]\n",
    "        \n",
    "        mx = max(lst[i-2:i]+lst[i+1:i+3]) # 4개 값을 직접 써줘도 됨\n",
    "        \n",
    "        if h > mx:\n",
    "            cnt += h - mx\n",
    "    \n",
    "    print('#{0} {1}'.format(t,cnt))"
   ]
  },
  {
   "cell_type": "markdown",
   "id": "eb8039a1",
   "metadata": {},
   "source": [
    "---"
   ]
  },
  {
   "cell_type": "code",
   "execution_count": null,
   "id": "2e7a48ce",
   "metadata": {},
   "outputs": [],
   "source": [
    "T = 10\n",
    "\n",
    "for test_case in range(1, T + 1):\n",
    "    \n",
    "    N = int(input())\n",
    "    \n",
    "    lst = list(map(int, input().split()))\n",
    "    \n",
    "    ans = 0\n",
    "    \n",
    "    for i in range(2, N-2):\n",
    "        \n",
    "        mx = lst[i-2]\n",
    "        \n",
    "        for j in range(i-1, i+3):\n",
    "            if i == j:\n",
    "                continue\n",
    "            if mx < lst[j]:\n",
    "                mx = lst[j]\n",
    "        if lst[i] > mx:\n",
    "            ans += lst[i]-mx\n",
    "    \n",
    "    print(f'#{test_case} {ans}')"
   ]
  }
 ],
 "metadata": {
  "kernelspec": {
   "display_name": "Python 3 (ipykernel)",
   "language": "python",
   "name": "python3"
  },
  "language_info": {
   "codemirror_mode": {
    "name": "ipython",
    "version": 3
   },
   "file_extension": ".py",
   "mimetype": "text/x-python",
   "name": "python",
   "nbconvert_exporter": "python",
   "pygments_lexer": "ipython3",
   "version": "3.11.2"
  }
 },
 "nbformat": 4,
 "nbformat_minor": 5
}
